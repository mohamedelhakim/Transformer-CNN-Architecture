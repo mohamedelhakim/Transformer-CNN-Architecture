{
 "cells": [
  {
   "cell_type": "code",
   "execution_count": 1,
   "id": "448640d6",
   "metadata": {
    "execution": {
     "iopub.execute_input": "2024-01-05T09:28:14.302695Z",
     "iopub.status.busy": "2024-01-05T09:28:14.302377Z",
     "iopub.status.idle": "2024-01-05T09:28:15.117702Z",
     "shell.execute_reply": "2024-01-05T09:28:15.116803Z"
    },
    "id": "arwnxlVCG7Dk",
    "papermill": {
     "duration": 0.82993,
     "end_time": "2024-01-05T09:28:15.119999",
     "exception": false,
     "start_time": "2024-01-05T09:28:14.290069",
     "status": "completed"
    },
    "tags": []
   },
   "outputs": [],
   "source": [
    "import pandas as pd\n",
    "import numpy as np"
   ]
  },
  {
   "cell_type": "code",
   "execution_count": 2,
   "id": "7a12ff25",
   "metadata": {
    "execution": {
     "iopub.execute_input": "2024-01-05T09:28:15.143896Z",
     "iopub.status.busy": "2024-01-05T09:28:15.143522Z",
     "iopub.status.idle": "2024-01-05T09:28:15.147642Z",
     "shell.execute_reply": "2024-01-05T09:28:15.146679Z"
    },
    "id": "etwfoCm4FzJD",
    "outputId": "065aa862-131c-4bc9-a43c-5fb61f535fae",
    "papermill": {
     "duration": 0.017864,
     "end_time": "2024-01-05T09:28:15.149582",
     "exception": false,
     "start_time": "2024-01-05T09:28:15.131718",
     "status": "completed"
    },
    "tags": []
   },
   "outputs": [],
   "source": [
    "import matplotlib.pyplot as plt"
   ]
  },
  {
   "cell_type": "code",
   "execution_count": 3,
   "id": "c618aa94",
   "metadata": {
    "execution": {
     "iopub.execute_input": "2024-01-05T09:28:15.172649Z",
     "iopub.status.busy": "2024-01-05T09:28:15.172352Z",
     "iopub.status.idle": "2024-01-05T09:28:15.203243Z",
     "shell.execute_reply": "2024-01-05T09:28:15.202588Z"
    },
    "id": "55BKZYkHGyLq",
    "papermill": {
     "duration": 0.044831,
     "end_time": "2024-01-05T09:28:15.205185",
     "exception": false,
     "start_time": "2024-01-05T09:28:15.160354",
     "status": "completed"
    },
    "tags": []
   },
   "outputs": [],
   "source": [
    "rnnamp_model = pd.read_csv('/kaggle/input/hemolytic/combined.csv')"
   ]
  },
  {
   "cell_type": "code",
   "execution_count": 4,
   "id": "351278de",
   "metadata": {
    "execution": {
     "iopub.execute_input": "2024-01-05T09:28:15.229041Z",
     "iopub.status.busy": "2024-01-05T09:28:15.228774Z",
     "iopub.status.idle": "2024-01-05T09:28:15.236617Z",
     "shell.execute_reply": "2024-01-05T09:28:15.235832Z"
    },
    "id": "xBIFhP4-HHpR",
    "papermill": {
     "duration": 0.021934,
     "end_time": "2024-01-05T09:28:15.238474",
     "exception": false,
     "start_time": "2024-01-05T09:28:15.216540",
     "status": "completed"
    },
    "tags": []
   },
   "outputs": [],
   "source": [
    "X=rnnamp_model['text']\n",
    "y=np.array(rnnamp_model['labels'])\n"
   ]
  },
  {
   "cell_type": "code",
   "execution_count": 5,
   "id": "11222ab3",
   "metadata": {
    "execution": {
     "iopub.execute_input": "2024-01-05T09:28:15.261876Z",
     "iopub.status.busy": "2024-01-05T09:28:15.261623Z",
     "iopub.status.idle": "2024-01-05T09:28:28.944316Z",
     "shell.execute_reply": "2024-01-05T09:28:28.943413Z"
    },
    "id": "9XWOVLm3IWdM",
    "papermill": {
     "duration": 13.697581,
     "end_time": "2024-01-05T09:28:28.947260",
     "exception": false,
     "start_time": "2024-01-05T09:28:15.249679",
     "status": "completed"
    },
    "tags": []
   },
   "outputs": [
    {
     "name": "stderr",
     "output_type": "stream",
     "text": [
      "/opt/conda/lib/python3.10/site-packages/scipy/__init__.py:146: UserWarning: A NumPy version >=1.16.5 and <1.23.0 is required for this version of SciPy (detected version 1.24.3\n",
      "  warnings.warn(f\"A NumPy version >={np_minversion} and <{np_maxversion}\"\n"
     ]
    }
   ],
   "source": [
    "import tensorflow as tf\n",
    "from tensorflow import keras\n",
    "from tensorflow.keras import layers,models\n",
    "from tensorflow.keras.preprocessing.sequence import pad_sequences\n",
    "from tensorflow.keras.optimizers import Adam,RMSprop,SGD\n",
    "from tensorflow.keras.callbacks import LearningRateScheduler\n",
    "from sklearn.model_selection import train_test_split\n",
    "from keras.saving import register_keras_serializable\n"
   ]
  },
  {
   "cell_type": "code",
   "execution_count": null,
   "id": "de499bb1",
   "metadata": {
    "id": "2q-aMhFDM1fe",
    "papermill": {
     "duration": 0.011966,
     "end_time": "2024-01-05T09:28:28.973268",
     "exception": false,
     "start_time": "2024-01-05T09:28:28.961302",
     "status": "completed"
    },
    "tags": []
   },
   "outputs": [],
   "source": []
  },
  {
   "cell_type": "code",
   "execution_count": 6,
   "id": "c4beccfe",
   "metadata": {
    "execution": {
     "iopub.execute_input": "2024-01-05T09:28:28.997808Z",
     "iopub.status.busy": "2024-01-05T09:28:28.997234Z",
     "iopub.status.idle": "2024-01-05T09:28:29.008746Z",
     "shell.execute_reply": "2024-01-05T09:28:29.007760Z"
    },
    "id": "uv9R2gGqdiEV",
    "papermill": {
     "duration": 0.025871,
     "end_time": "2024-01-05T09:28:29.010878",
     "exception": false,
     "start_time": "2024-01-05T09:28:28.985007",
     "status": "completed"
    },
    "tags": []
   },
   "outputs": [],
   "source": [
    "X_train, X_test, y_train, y_test= train_test_split(X,y, test_size=0.2, random_state=0)\n"
   ]
  },
  {
   "cell_type": "code",
   "execution_count": 7,
   "id": "dfc4fc6f",
   "metadata": {
    "execution": {
     "iopub.execute_input": "2024-01-05T09:28:29.034957Z",
     "iopub.status.busy": "2024-01-05T09:28:29.034658Z",
     "iopub.status.idle": "2024-01-05T09:28:29.042019Z",
     "shell.execute_reply": "2024-01-05T09:28:29.041133Z"
    },
    "id": "HWE99tR1ITF-",
    "outputId": "0f520fa4-bf67-4292-df5e-2efb2646541a",
    "papermill": {
     "duration": 0.021686,
     "end_time": "2024-01-05T09:28:29.044099",
     "exception": false,
     "start_time": "2024-01-05T09:28:29.022413",
     "status": "completed"
    },
    "tags": []
   },
   "outputs": [
    {
     "data": {
      "text/plain": [
       "\"\\n# Example data\\ntexts = X_train\\n\\n# Tokenize the texts\\ntokenizer = Tokenizer()\\ntokenizer.fit_on_texts(texts)\\n\\n# Convert text to sequences of integers\\nsequences = tokenizer.texts_to_sequences(texts)\\ntest_seq=tokenizer.texts_to_sequences(X_test)\\n# Pad sequences to a fixed length\\nmaxlen = 100  # Adjust as needed based on your data\\npadded_sequences = pad_sequences(sequences, maxlen=maxlen, padding='post', truncating='post')\\ntest=pad_sequences(test_seq, maxlen=maxlen, padding='post', truncating='post')\\n# Convert to NumPy array\\nX_train = tf.constant(padded_sequences)\\nX_test = tf.constant(test)\\n\""
      ]
     },
     "execution_count": 7,
     "metadata": {},
     "output_type": "execute_result"
    }
   ],
   "source": [
    "'''\n",
    "# Example data\n",
    "texts = X_train\n",
    "\n",
    "# Tokenize the texts\n",
    "tokenizer = Tokenizer()\n",
    "tokenizer.fit_on_texts(texts)\n",
    "\n",
    "# Convert text to sequences of integers\n",
    "sequences = tokenizer.texts_to_sequences(texts)\n",
    "test_seq=tokenizer.texts_to_sequences(X_test)\n",
    "# Pad sequences to a fixed length\n",
    "maxlen = 100  # Adjust as needed based on your data\n",
    "padded_sequences = pad_sequences(sequences, maxlen=maxlen, padding='post', truncating='post')\n",
    "test=pad_sequences(test_seq, maxlen=maxlen, padding='post', truncating='post')\n",
    "# Convert to NumPy array\n",
    "X_train = tf.constant(padded_sequences)\n",
    "X_test = tf.constant(test)\n",
    "'''"
   ]
  },
  {
   "cell_type": "code",
   "execution_count": 8,
   "id": "a84f5b46",
   "metadata": {
    "execution": {
     "iopub.execute_input": "2024-01-05T09:28:29.067928Z",
     "iopub.status.busy": "2024-01-05T09:28:29.067644Z",
     "iopub.status.idle": "2024-01-05T09:28:29.072030Z",
     "shell.execute_reply": "2024-01-05T09:28:29.071023Z"
    },
    "id": "-QBDWhJ3zRp7",
    "papermill": {
     "duration": 0.018244,
     "end_time": "2024-01-05T09:28:29.073974",
     "exception": false,
     "start_time": "2024-01-05T09:28:29.055730",
     "status": "completed"
    },
    "tags": []
   },
   "outputs": [],
   "source": [
    "X_train=np.array(X_train)\n",
    "X_test=np.array(X_test)"
   ]
  },
  {
   "cell_type": "code",
   "execution_count": null,
   "id": "f184c5b4",
   "metadata": {
    "id": "KUctT5aQzjYs",
    "papermill": {
     "duration": 0.010676,
     "end_time": "2024-01-05T09:28:29.095606",
     "exception": false,
     "start_time": "2024-01-05T09:28:29.084930",
     "status": "completed"
    },
    "tags": []
   },
   "outputs": [],
   "source": []
  },
  {
   "cell_type": "code",
   "execution_count": 9,
   "id": "3d2d215d",
   "metadata": {
    "execution": {
     "iopub.execute_input": "2024-01-05T09:28:29.118658Z",
     "iopub.status.busy": "2024-01-05T09:28:29.118183Z",
     "iopub.status.idle": "2024-01-05T09:28:31.554350Z",
     "shell.execute_reply": "2024-01-05T09:28:31.553413Z"
    },
    "id": "CssLBsIAfRtH",
    "papermill": {
     "duration": 2.450288,
     "end_time": "2024-01-05T09:28:31.556932",
     "exception": false,
     "start_time": "2024-01-05T09:28:29.106644",
     "status": "completed"
    },
    "tags": []
   },
   "outputs": [],
   "source": [
    "def tokenizer(text,max_len):\n",
    "  #dic={'A':1,'G':1,'V':1,'I':2,'L':2,'F':2,'P':2,'Y':3,'M':3,'T':3,'S':3,'H':4,'N':4,'Q':4,'W':4,'K':5,'R':5,'D':6,'E':6,'C':7}\n",
    "  dic={'A':1,'G':2,'V':3,'I':4,'L':5,'F':6,'P':7,'Y':8,'M':9,'T':10,'S':11,'H':12,'N':13,'Q':14,'W':15,'K':16,'R':17,'D':18,'E':19,'C':20}\n",
    "  onehot=[]\n",
    "  t=[]\n",
    "  for i in range(len(text)):\n",
    "    row=[]\n",
    "    l=[]\n",
    "    char=text[i].split(' ')\n",
    "    for j in range(max_len):\n",
    "      if j< len(char):\n",
    "        row.append(dic[char[j]])\n",
    "        r=np.zeros(20)\n",
    "        r[dic[char[j]]-1]=1\n",
    "      else:\n",
    "        r=np.ones(20)*-1\n",
    "        row.append(0)\n",
    "      l.append(r)\n",
    "    l=np.array(l)\n",
    "    onehot.append(l)\n",
    "    t.append(row)\n",
    "  onehot=np.array(onehot)\n",
    "  t=np.array(t)\n",
    "  return t,onehot\n",
    "max_len=50\n",
    "X_train,onehot_train=tokenizer(X_train,max_len)\n",
    "X_test,onehot_test=tokenizer(X_test,max_len)\n"
   ]
  },
  {
   "cell_type": "code",
   "execution_count": 10,
   "id": "04c71dd7",
   "metadata": {
    "execution": {
     "iopub.execute_input": "2024-01-05T09:28:31.582603Z",
     "iopub.status.busy": "2024-01-05T09:28:31.582162Z",
     "iopub.status.idle": "2024-01-05T09:28:31.589162Z",
     "shell.execute_reply": "2024-01-05T09:28:31.588389Z"
    },
    "id": "78cDRMz5-8j2",
    "papermill": {
     "duration": 0.021802,
     "end_time": "2024-01-05T09:28:31.591294",
     "exception": false,
     "start_time": "2024-01-05T09:28:31.569492",
     "status": "completed"
    },
    "tags": []
   },
   "outputs": [],
   "source": [
    "def positional_encoding(positions, d):\n",
    "\n",
    "    # initialize a matrix angle_rads of all the angles\n",
    "    pos=np.arange(positions)[:, np.newaxis] #Column vector containing the position span [0,1,..., positions]\n",
    "    k= np.arange(d)[np.newaxis, :]  #Row vector containing the dimension span [[0, 1, ..., d-1]]\n",
    "    i = k//2\n",
    "    angle_rads = pos/(10000**(2*i/d)) #Matrix of angles indexed by (pos,i)\n",
    "\n",
    "    # apply sin to even indices in the array; 2i\n",
    "    angle_rads[:, 0::2] = np.sin(angle_rads[:, 0::2])\n",
    "\n",
    "    # apply cos to odd indices in the array; 2i+1\n",
    "    angle_rads[:, 1::2] = np.cos(angle_rads[:, 1::2])\n",
    "\n",
    "    #adds batch axis\n",
    "    pos_encoding = angle_rads[np.newaxis, ...]\n",
    "\n",
    "    return tf.cast(pos_encoding, dtype=tf.float32)\n"
   ]
  },
  {
   "cell_type": "code",
   "execution_count": null,
   "id": "6de26a14",
   "metadata": {
    "id": "TyGqUBPEpfxg",
    "papermill": {
     "duration": 0.011095,
     "end_time": "2024-01-05T09:28:31.613709",
     "exception": false,
     "start_time": "2024-01-05T09:28:31.602614",
     "status": "completed"
    },
    "tags": []
   },
   "outputs": [],
   "source": []
  },
  {
   "cell_type": "code",
   "execution_count": 11,
   "id": "0709d76e",
   "metadata": {
    "execution": {
     "iopub.execute_input": "2024-01-05T09:28:31.637595Z",
     "iopub.status.busy": "2024-01-05T09:28:31.637069Z",
     "iopub.status.idle": "2024-01-05T09:31:15.727654Z",
     "shell.execute_reply": "2024-01-05T09:31:15.726754Z"
    },
    "id": "cXObcCXqFiGy",
    "outputId": "03866393-b8b1-43e0-e0af-80078cd004fb",
    "papermill": {
     "duration": 164.105283,
     "end_time": "2024-01-05T09:31:15.729900",
     "exception": false,
     "start_time": "2024-01-05T09:28:31.624617",
     "status": "completed"
    },
    "tags": []
   },
   "outputs": [
    {
     "name": "stdout",
     "output_type": "stream",
     "text": [
      "Epoch 1/100\n",
      "162/162 [==============================] - 15s 24ms/step - loss: 4.4724 - accuracy: 0.7835 - val_loss: 3.8531 - val_accuracy: 0.8539\n",
      "Epoch 2/100\n",
      "162/162 [==============================] - 3s 17ms/step - loss: 3.3819 - accuracy: 0.8620 - val_loss: 3.0105 - val_accuracy: 0.8696\n",
      "Epoch 3/100\n",
      "162/162 [==============================] - 3s 17ms/step - loss: 2.6383 - accuracy: 0.8876 - val_loss: 2.4225 - val_accuracy: 0.8574\n",
      "Epoch 4/100\n",
      "162/162 [==============================] - 3s 18ms/step - loss: 2.0971 - accuracy: 0.9091 - val_loss: 1.9834 - val_accuracy: 0.8765\n",
      "Epoch 5/100\n",
      "162/162 [==============================] - 3s 18ms/step - loss: 1.7016 - accuracy: 0.9255 - val_loss: 1.6825 - val_accuracy: 0.8835\n",
      "Epoch 6/100\n",
      "162/162 [==============================] - 3s 17ms/step - loss: 1.4214 - accuracy: 0.9303 - val_loss: 1.4468 - val_accuracy: 0.8800\n",
      "Epoch 7/100\n",
      "162/162 [==============================] - 3s 18ms/step - loss: 1.2048 - accuracy: 0.9404 - val_loss: 1.2580 - val_accuracy: 0.8939\n",
      "Epoch 8/100\n",
      "162/162 [==============================] - 3s 17ms/step - loss: 1.0347 - accuracy: 0.9443 - val_loss: 1.1263 - val_accuracy: 0.8904\n",
      "Epoch 9/100\n",
      "162/162 [==============================] - 3s 17ms/step - loss: 0.8975 - accuracy: 0.9563 - val_loss: 1.0061 - val_accuracy: 0.8904\n",
      "Epoch 10/100\n",
      "162/162 [==============================] - 3s 17ms/step - loss: 0.7907 - accuracy: 0.9557 - val_loss: 0.9256 - val_accuracy: 0.8939\n",
      "Epoch 11/100\n",
      "162/162 [==============================] - 3s 17ms/step - loss: 0.7003 - accuracy: 0.9619 - val_loss: 0.8366 - val_accuracy: 0.8904\n",
      "Epoch 12/100\n",
      "162/162 [==============================] - 3s 17ms/step - loss: 0.6244 - accuracy: 0.9615 - val_loss: 0.8136 - val_accuracy: 0.8835\n",
      "Epoch 13/100\n",
      "162/162 [==============================] - 3s 18ms/step - loss: 0.5621 - accuracy: 0.9652 - val_loss: 0.7311 - val_accuracy: 0.8991\n",
      "Epoch 14/100\n",
      "162/162 [==============================] - 3s 18ms/step - loss: 0.5005 - accuracy: 0.9675 - val_loss: 0.6801 - val_accuracy: 0.9009\n",
      "Epoch 15/100\n",
      "162/162 [==============================] - 3s 18ms/step - loss: 0.4518 - accuracy: 0.9717 - val_loss: 0.6368 - val_accuracy: 0.9165\n",
      "Epoch 16/100\n",
      "162/162 [==============================] - 3s 17ms/step - loss: 0.4077 - accuracy: 0.9758 - val_loss: 0.5921 - val_accuracy: 0.9130\n",
      "Epoch 17/100\n",
      "162/162 [==============================] - 3s 17ms/step - loss: 0.3777 - accuracy: 0.9717 - val_loss: 0.5734 - val_accuracy: 0.9009\n",
      "Epoch 18/100\n",
      "162/162 [==============================] - 3s 17ms/step - loss: 0.3454 - accuracy: 0.9741 - val_loss: 0.5319 - val_accuracy: 0.9096\n",
      "Epoch 19/100\n",
      "162/162 [==============================] - 3s 17ms/step - loss: 0.3142 - accuracy: 0.9750 - val_loss: 0.4990 - val_accuracy: 0.9096\n",
      "Epoch 20/100\n",
      "162/162 [==============================] - 3s 17ms/step - loss: 0.2895 - accuracy: 0.9768 - val_loss: 0.5022 - val_accuracy: 0.8974\n",
      "Epoch 21/100\n",
      "162/162 [==============================] - 3s 17ms/step - loss: 0.2729 - accuracy: 0.9777 - val_loss: 0.4793 - val_accuracy: 0.9078\n",
      "Epoch 22/100\n",
      "162/162 [==============================] - 3s 18ms/step - loss: 0.2463 - accuracy: 0.9816 - val_loss: 0.4371 - val_accuracy: 0.9235\n",
      "Epoch 23/100\n",
      "162/162 [==============================] - 3s 17ms/step - loss: 0.2286 - accuracy: 0.9808 - val_loss: 0.4335 - val_accuracy: 0.9148\n",
      "Epoch 24/100\n",
      "162/162 [==============================] - 3s 17ms/step - loss: 0.2188 - accuracy: 0.9807 - val_loss: 0.4172 - val_accuracy: 0.9113\n",
      "Epoch 25/100\n",
      "162/162 [==============================] - 3s 17ms/step - loss: 0.2029 - accuracy: 0.9810 - val_loss: 0.4292 - val_accuracy: 0.9026\n",
      "Epoch 26/100\n",
      "162/162 [==============================] - 3s 17ms/step - loss: 0.1917 - accuracy: 0.9818 - val_loss: 0.4503 - val_accuracy: 0.9061\n",
      "Epoch 27/100\n",
      "162/162 [==============================] - 3s 17ms/step - loss: 0.1853 - accuracy: 0.9810 - val_loss: 0.4086 - val_accuracy: 0.9130\n",
      "Epoch 28/100\n",
      "162/162 [==============================] - 3s 17ms/step - loss: 0.1759 - accuracy: 0.9812 - val_loss: 0.3827 - val_accuracy: 0.9200\n",
      "Epoch 29/100\n",
      "162/162 [==============================] - 3s 17ms/step - loss: 0.1760 - accuracy: 0.9793 - val_loss: 0.3704 - val_accuracy: 0.9148\n",
      "Epoch 30/100\n",
      "162/162 [==============================] - 3s 18ms/step - loss: 0.1691 - accuracy: 0.9812 - val_loss: 0.3888 - val_accuracy: 0.9061\n",
      "Epoch 31/100\n",
      "162/162 [==============================] - 3s 18ms/step - loss: 0.1534 - accuracy: 0.9837 - val_loss: 0.3945 - val_accuracy: 0.9043\n",
      "Epoch 32/100\n",
      "162/162 [==============================] - 3s 17ms/step - loss: 0.1523 - accuracy: 0.9814 - val_loss: 0.4026 - val_accuracy: 0.9061\n",
      "Epoch 33/100\n",
      "162/162 [==============================] - 3s 18ms/step - loss: 0.1450 - accuracy: 0.9837 - val_loss: 0.4056 - val_accuracy: 0.9078\n",
      "Epoch 34/100\n",
      "162/162 [==============================] - 3s 18ms/step - loss: 0.1398 - accuracy: 0.9841 - val_loss: 0.3914 - val_accuracy: 0.9009\n",
      "Epoch 35/100\n",
      "162/162 [==============================] - 3s 18ms/step - loss: 0.1356 - accuracy: 0.9845 - val_loss: 0.3844 - val_accuracy: 0.9148\n",
      "Epoch 36/100\n",
      "162/162 [==============================] - 3s 18ms/step - loss: 0.1346 - accuracy: 0.9841 - val_loss: 0.3647 - val_accuracy: 0.9183\n",
      "Epoch 37/100\n",
      "162/162 [==============================] - 3s 18ms/step - loss: 0.1318 - accuracy: 0.9824 - val_loss: 0.3632 - val_accuracy: 0.9200\n",
      "Epoch 38/100\n",
      "162/162 [==============================] - 3s 18ms/step - loss: 0.1337 - accuracy: 0.9826 - val_loss: 0.3921 - val_accuracy: 0.8974\n",
      "Epoch 39/100\n",
      "162/162 [==============================] - 3s 18ms/step - loss: 0.1286 - accuracy: 0.9818 - val_loss: 0.4147 - val_accuracy: 0.9026\n",
      "Epoch 40/100\n",
      "162/162 [==============================] - 3s 18ms/step - loss: 0.1262 - accuracy: 0.9837 - val_loss: 0.3616 - val_accuracy: 0.8991\n",
      "Epoch 41/100\n",
      "162/162 [==============================] - 3s 19ms/step - loss: 0.1183 - accuracy: 0.9857 - val_loss: 0.3421 - val_accuracy: 0.9252\n",
      "Epoch 42/100\n",
      "162/162 [==============================] - 3s 18ms/step - loss: 0.1159 - accuracy: 0.9849 - val_loss: 0.3521 - val_accuracy: 0.9165\n",
      "Epoch 43/100\n",
      "162/162 [==============================] - 3s 18ms/step - loss: 0.1102 - accuracy: 0.9866 - val_loss: 0.3286 - val_accuracy: 0.9183\n",
      "Epoch 44/100\n",
      "162/162 [==============================] - 3s 18ms/step - loss: 0.1148 - accuracy: 0.9836 - val_loss: 0.3618 - val_accuracy: 0.9183\n",
      "Epoch 45/100\n",
      "162/162 [==============================] - 3s 18ms/step - loss: 0.1137 - accuracy: 0.9836 - val_loss: 0.4146 - val_accuracy: 0.8904\n",
      "Epoch 46/100\n",
      "162/162 [==============================] - 3s 18ms/step - loss: 0.1032 - accuracy: 0.9872 - val_loss: 0.3816 - val_accuracy: 0.9096\n",
      "Epoch 47/100\n",
      "162/162 [==============================] - 3s 18ms/step - loss: 0.1028 - accuracy: 0.9866 - val_loss: 0.3876 - val_accuracy: 0.9061\n",
      "Epoch 48/100\n",
      "162/162 [==============================] - 3s 18ms/step - loss: 0.1004 - accuracy: 0.9866 - val_loss: 0.3935 - val_accuracy: 0.9026\n",
      "Epoch 49/100\n",
      "162/162 [==============================] - 3s 18ms/step - loss: 0.1002 - accuracy: 0.9861 - val_loss: 0.3380 - val_accuracy: 0.9183\n",
      "Epoch 50/100\n",
      "162/162 [==============================] - 3s 18ms/step - loss: 0.0983 - accuracy: 0.9870 - val_loss: 0.3846 - val_accuracy: 0.8991\n",
      "Epoch 51/100\n",
      "162/162 [==============================] - 3s 18ms/step - loss: 0.0938 - accuracy: 0.9882 - val_loss: 0.3947 - val_accuracy: 0.9043\n",
      "Epoch 52/100\n",
      "162/162 [==============================] - 3s 18ms/step - loss: 0.0981 - accuracy: 0.9866 - val_loss: 0.3589 - val_accuracy: 0.9061\n",
      "Epoch 53/100\n",
      "162/162 [==============================] - 3s 18ms/step - loss: 0.0997 - accuracy: 0.9843 - val_loss: 0.3858 - val_accuracy: 0.9130\n"
     ]
    }
   ],
   "source": [
    "# Define the Transformer model\n",
    "@register_keras_serializable()\n",
    "class TransformerModel(keras.Model):\n",
    "    def __init__(self, input_vocab_size, d_model, num_heads, ff_dim, rate=0.1, maxlen=50):\n",
    "        super(TransformerModel, self).__init__()\n",
    "        self.dropout1 = layers.Dropout(rate)\n",
    "        self.dropout2 = layers.Dropout(rate)\n",
    "        self.dropout3 = layers.Dropout(rate)\n",
    "        self.embedding = layers.Embedding(input_vocab_size, d_model)\n",
    "        self.PE = positional_encoding(maxlen, d_model)\n",
    "        self.transformer_block = TransformerBlock_Encode(d_model, num_heads, ff_dim, rate)\n",
    "        self.transformer_block2 = TransformerBlock_decode(d_model, num_heads, ff_dim, rate)\n",
    "        self.flatten = layers.Flatten()\n",
    "        self.fc1 = layers.Dense(512, activation=\"relu\",kernel_regularizer=tf.keras.regularizers.l2(l2=0.001))\n",
    "        self.fc3 = layers.Dense(256, activation=\"relu\",kernel_regularizer=tf.keras.regularizers.l2(l2=0.01))\n",
    "        self.fc2 = layers.Dense(1, activation=\"sigmoid\",kernel_regularizer=tf.keras.regularizers.l2(l2=0.1))\n",
    "\n",
    "    def call(self, inputs, training):\n",
    "        x = self.embedding(inputs)\n",
    "        #x = x+self.PE\n",
    "        y = self.transformer_block(x)\n",
    "        y = self.dropout1(y)\n",
    "        x = self.transformer_block2(x,y,y)\n",
    "        x = self.dropout2(x)\n",
    "        x = self.flatten(x)\n",
    "        x = self.fc1(x)\n",
    "        x = self.fc3(x)\n",
    "        x = self.dropout3(x)\n",
    "        return self.fc2(x)\n",
    "class TransformerBlock_decode(layers.Layer):\n",
    "    def __init__(self, d_model, num_heads, ff_dim, rate=0.1):\n",
    "        super(TransformerBlock_decode, self).__init__()\n",
    "        self.att = layers.MultiHeadAttention(num_heads=num_heads, key_dim=d_model)\n",
    "        self.att1 = layers.MultiHeadAttention(num_heads=num_heads, key_dim=d_model)\n",
    "        self.ffn = keras.Sequential(\n",
    "            [layers.Dense(ff_dim, activation=\"relu\"), layers.Dense(d_model)]\n",
    "        )\n",
    "        self.layernorm1 = layers.LayerNormalization(epsilon=1e-1)\n",
    "        self.layernorm3 = layers.LayerNormalization(epsilon=1e-1)\n",
    "        self.layernorm2 = layers.LayerNormalization(epsilon=1e-1)\n",
    "        self.dropout1 = layers.Dropout(rate)\n",
    "        self.dropout2 = layers.Dropout(rate)\n",
    "        self.dropout3 = layers.Dropout(rate)\n",
    "    def call(self, inputs,q,k, training):\n",
    "        attn_output = self.att(inputs, inputs,inputs)\n",
    "        out1 = self.layernorm1(inputs + attn_output)\n",
    "        attn_output1=self.att(q, k,out1)\n",
    "        out2 = self.layernorm1(out1 + attn_output1)\n",
    "        ffn_output = self.ffn(out2)\n",
    "        return self.layernorm2(out2 + ffn_output)\n",
    "\n",
    "# Define the TransformerBlock layer\n",
    "class TransformerBlock_Encode(layers.Layer):\n",
    "    def __init__(self, d_model, num_heads, ff_dim, rate=0.1):\n",
    "        super(TransformerBlock_Encode, self).__init__()\n",
    "        self.con= layers.Conv1D(256,5,padding='same')\n",
    "        self.att = layers.MultiHeadAttention(num_heads=num_heads, key_dim=d_model)\n",
    "        self.ffn = keras.Sequential(\n",
    "            [layers.Dense(ff_dim, activation=\"relu\"), layers.Dense(d_model)]\n",
    "        )\n",
    "        self.layernorm1 = layers.LayerNormalization(epsilon=1e-1)\n",
    "        self.layernorm2 = layers.LayerNormalization(epsilon=1e-1)\n",
    "        self.dropout1 = layers.Dropout(rate)\n",
    "        self.dropout2 = layers.Dropout(rate)\n",
    "    def call(self, inputs, training):\n",
    "        inputs=self.con(inputs)\n",
    "        attn_output = self.att(inputs, inputs,inputs)\n",
    "        out1 = self.layernorm1(inputs + attn_output)\n",
    "        ffn_output = self.ffn(out1)\n",
    "        return self.layernorm2(out1 + ffn_output)\n",
    "\n",
    "\n",
    "\n",
    "# Define your data loading and preprocessing here\n",
    "# Example: X_train, y_train = load_data_and_preprocess()\n",
    "\n",
    "# Define the model\n",
    "input_vocab_size = 1024  # Replace with the actual vocabulary size\n",
    "d_model = 256\n",
    "num_heads = 2\n",
    "ff_dim = 256\n",
    "\n",
    "model = TransformerModel(input_vocab_size, d_model, num_heads, ff_dim)\n",
    "initial_learning_rate = 0.0001\n",
    "optimizer = Adam(learning_rate=initial_learning_rate)\n",
    "# Compile the model\n",
    "model.compile(optimizer=optimizer, loss=tf.keras.losses.BinaryCrossentropy(from_logits=False), metrics=[\"accuracy\"])\n",
    "\n",
    "callback = [tf.keras.callbacks.EarlyStopping(monitor='val_loss', patience=10),tf.keras.callbacks.ModelCheckpoint(filepath='AMAP1.h5', monitor='val_accuracy', save_best_only=True,mode='auto',save_weights_only=True)]\n",
    "\n",
    "# Train the model\n",
    "history = model.fit(X_train,y_train,epochs = 100,batch_size=32,validation_split=0.1,callbacks=[callback],verbose=1,shuffle= True)\n",
    "\n"
   ]
  },
  {
   "cell_type": "code",
   "execution_count": 12,
   "id": "86f62645",
   "metadata": {
    "execution": {
     "iopub.execute_input": "2024-01-05T09:31:16.161146Z",
     "iopub.status.busy": "2024-01-05T09:31:16.160772Z",
     "iopub.status.idle": "2024-01-05T09:31:16.788475Z",
     "shell.execute_reply": "2024-01-05T09:31:16.787341Z"
    },
    "papermill": {
     "duration": 0.843467,
     "end_time": "2024-01-05T09:31:16.790765",
     "exception": false,
     "start_time": "2024-01-05T09:31:15.947298",
     "status": "completed"
    },
    "tags": []
   },
   "outputs": [
    {
     "data": {
      "image/png": "[encoded data removed]",
      "text/plain": [
       "<Figure size 640x480 with 1 Axes>"
      ]
     },
     "metadata": {},
     "output_type": "display_data"
    },
    {
     "data": {
      "image/png": "[encoded data removed]",
      "text/plain": [
       "<Figure size 640x480 with 1 Axes>"
      ]
     },
     "metadata": {},
     "output_type": "display_data"
    }
   ],
   "source": [
    "# Plot training accuracy\n",
    "plt.plot(history.history['accuracy'][:-10])\n",
    "plt.plot(history.history['val_accuracy'][:-10])\n",
    "plt.title('Model Accuracy')\n",
    "plt.xlabel('Epoch')\n",
    "plt.ylabel('Accuracy')\n",
    "plt.legend(['Train', 'Validation'], loc='upper left')\n",
    "plt.show()\n",
    "\n",
    "# Plot training loss\n",
    "plt.plot(history.history['loss'][:-10])\n",
    "plt.plot(history.history['val_loss'][:-10])\n",
    "plt.title('Model Loss')\n",
    "plt.xlabel('Epoch')\n",
    "plt.ylabel('Loss')\n",
    "plt.legend(['Train', 'Validation'], loc='upper left')\n",
    "plt.show()"
   ]
  },
  {
   "cell_type": "code",
   "execution_count": 13,
   "id": "b1b5b248",
   "metadata": {
    "execution": {
     "iopub.execute_input": "2024-01-05T09:31:17.251384Z",
     "iopub.status.busy": "2024-01-05T09:31:17.250701Z",
     "iopub.status.idle": "2024-01-05T09:31:17.288873Z",
     "shell.execute_reply": "2024-01-05T09:31:17.287964Z"
    },
    "id": "rTgz-IdEasJk",
    "outputId": "43f20a0f-6961-4522-8b35-cc0cfec9ebef",
    "papermill": {
     "duration": 0.259177,
     "end_time": "2024-01-05T09:31:17.292527",
     "exception": false,
     "start_time": "2024-01-05T09:31:17.033350",
     "status": "completed"
    },
    "tags": []
   },
   "outputs": [
    {
     "name": "stdout",
     "output_type": "stream",
     "text": [
      "Model: \"transformer_model\"\n",
      "_________________________________________________________________\n",
      " Layer (type)                Output Shape              Param #   \n",
      "=================================================================\n",
      " dropout (Dropout)           multiple                  0         \n",
      "                                                                 \n",
      " dropout_1 (Dropout)         multiple                  0         \n",
      "                                                                 \n",
      " dropout_2 (Dropout)         multiple                  0         \n",
      "                                                                 \n",
      " embedding (Embedding)       multiple                  262144    \n",
      "                                                                 \n",
      " transformer_block__encode   multiple                  986624    \n",
      " (TransformerBlock_Encode)                                       \n",
      "                                                                 \n",
      " transformer_block_decode (  multiple                  658688    \n",
      " TransformerBlock_decode)                                        \n",
      "                                                                 \n",
      " flatten (Flatten)           multiple                  0         \n",
      "                                                                 \n",
      " dense_4 (Dense)             multiple                  6554112   \n",
      "                                                                 \n",
      " dense_5 (Dense)             multiple                  131328    \n",
      "                                                                 \n",
      " dense_6 (Dense)             multiple                  257       \n",
      "                                                                 \n",
      "=================================================================\n",
      "Total params: 8593153 (32.78 MB)\n",
      "Trainable params: 8593153 (32.78 MB)\n",
      "Non-trainable params: 0 (0.00 Byte)\n",
      "_________________________________________________________________\n"
     ]
    }
   ],
   "source": [
    "model.summary()"
   ]
  },
  {
   "cell_type": "code",
   "execution_count": 14,
   "id": "8d0181da",
   "metadata": {
    "execution": {
     "iopub.execute_input": "2024-01-05T09:31:17.731295Z",
     "iopub.status.busy": "2024-01-05T09:31:17.730916Z",
     "iopub.status.idle": "2024-01-05T09:31:17.823291Z",
     "shell.execute_reply": "2024-01-05T09:31:17.822295Z"
    },
    "id": "Bm5Vdbe-lVeT",
    "papermill": {
     "duration": 0.314276,
     "end_time": "2024-01-05T09:31:17.825675",
     "exception": false,
     "start_time": "2024-01-05T09:31:17.511399",
     "status": "completed"
    },
    "tags": []
   },
   "outputs": [],
   "source": [
    "model.load_weights('AMAP1.h5')"
   ]
  },
  {
   "cell_type": "code",
   "execution_count": 15,
   "id": "79ff23e3",
   "metadata": {
    "execution": {
     "iopub.execute_input": "2024-01-05T09:31:18.283243Z",
     "iopub.status.busy": "2024-01-05T09:31:18.282323Z",
     "iopub.status.idle": "2024-01-05T09:31:18.287038Z",
     "shell.execute_reply": "2024-01-05T09:31:18.286008Z"
    },
    "id": "xHT6ycII_PcZ",
    "papermill": {
     "duration": 0.234292,
     "end_time": "2024-01-05T09:31:18.289181",
     "exception": false,
     "start_time": "2024-01-05T09:31:18.054889",
     "status": "completed"
    },
    "tags": []
   },
   "outputs": [],
   "source": [
    "model1=model"
   ]
  },
  {
   "cell_type": "code",
   "execution_count": 16,
   "id": "62e25ba0",
   "metadata": {
    "execution": {
     "iopub.execute_input": "2024-01-05T09:31:18.763201Z",
     "iopub.status.busy": "2024-01-05T09:31:18.762799Z",
     "iopub.status.idle": "2024-01-05T09:31:21.271299Z",
     "shell.execute_reply": "2024-01-05T09:31:21.270112Z"
    },
    "id": "Ep5tIGliLqWA",
    "outputId": "a2379bb7-f2ff-455a-f8ec-d3c0f7c51fba",
    "papermill": {
     "duration": 2.746576,
     "end_time": "2024-01-05T09:31:21.273849",
     "exception": false,
     "start_time": "2024-01-05T09:31:18.527273",
     "status": "completed"
    },
    "tags": []
   },
   "outputs": [
    {
     "name": "stdout",
     "output_type": "stream",
     "text": [
      "180/180 [==============================] - 2s 7ms/step\n",
      "combined train datasets\n",
      "deep learning: Accuracy 98.40%\n",
      "deep learning: Precision-Recall 97.04%\n",
      "deep learning: Matthews Coefficient 96.71%\n",
      "deep learning: Cohen Kappa Score 96.71%\n",
      "deep learning: ROC AUC Score 98.35%\n",
      "              precision    recall  f1-score   support\n",
      "\n",
      "       low 0       0.99      0.99      0.99      3332\n",
      "      high 1       0.98      0.98      0.98      2411\n",
      "\n",
      "    accuracy                           0.98      5743\n",
      "   macro avg       0.98      0.98      0.98      5743\n",
      "weighted avg       0.98      0.98      0.98      5743\n",
      "\n",
      "combined test datasets\n",
      "45/45 [==============================] - 0s 8ms/step\n",
      "deep learning: Accuracy 89.21%\n",
      "deep learning: Precision 87.44%\n",
      "deep learning: Recall 86.41%\n",
      "deep learning: Matthews Coefficient 77.74%\n",
      "deep learning: Cohen Kappa Score 77.73%\n",
      "deep learning: ROC AUC Score 88.80%\n",
      "              precision    recall  f1-score   support\n",
      "\n",
      "       low 0       0.90      0.91      0.91       840\n",
      "      high 1       0.87      0.86      0.87       596\n",
      "\n",
      "    accuracy                           0.89      1436\n",
      "   macro avg       0.89      0.89      0.89      1436\n",
      "weighted avg       0.89      0.89      0.89      1436\n",
      "\n"
     ]
    }
   ],
   "source": [
    "from sklearn import model_selection, metrics\n",
    "y_pred=model.predict(X_train)\n",
    "y_pred[y_pred>0.5]=1\n",
    "y_pred[y_pred<0.5]=0\n",
    "\n",
    "cv_preds = y_pred\n",
    "print('combined train datasets')\n",
    "name='deep learning'\n",
    "print(\"%s: Accuracy %0.2f%%\" % (name, 100*metrics.accuracy_score(y_train, cv_preds)))\n",
    "print(\"%s: Precision-Recall %0.2f%%\" % (name, 100*metrics.average_precision_score(y_train, cv_preds)))\n",
    "print(\"%s: Matthews Coefficient %0.2f%%\" % (name, 100*metrics.matthews_corrcoef(y_train, cv_preds)))\n",
    "print(\"%s: Cohen Kappa Score %0.2f%%\" % (name, 100*metrics.cohen_kappa_score(y_train, cv_preds)))\n",
    "print(\"%s: ROC AUC Score %0.2f%%\" % (name, 100*metrics.roc_auc_score(y_train, cv_preds)))\n",
    "target_names = ['low 0', 'high 1']\n",
    "print(metrics.classification_report(y_train, cv_preds, target_names=target_names))\n",
    "\n",
    "# Predictions Validation Set\n",
    "print('combined test datasets')\n",
    "y_pred2=model.predict(X_test)\n",
    "l=np.zeros(len(y_pred2))\n",
    "l=l.reshape(-1,1)\n",
    "l[y_pred2>=0.5]=1\n",
    "l[y_pred2<0.5]=0\n",
    "cv_preds2 = l\n",
    "print(\"%s: Accuracy %0.2f%%\" % (name, 100*metrics.accuracy_score(y_test, cv_preds2)))\n",
    "print(\"%s: Precision %0.2f%%\" % (name, 100*metrics.precision_score(y_test, cv_preds2)))\n",
    "print(\"%s: Recall %0.2f%%\" % (name, 100*metrics.recall_score(y_test, cv_preds2)))\n",
    "print(\"%s: Matthews Coefficient %0.2f%%\" % (name, 100*metrics.matthews_corrcoef(y_test, cv_preds2)))\n",
    "print(\"%s: Cohen Kappa Score %0.2f%%\" % (name, 100*metrics.cohen_kappa_score(y_test, cv_preds2)))\n",
    "print(\"%s: ROC AUC Score %0.2f%%\" % (name, 100*metrics.roc_auc_score(y_test, cv_preds2)))\n",
    "target_names = ['low 0', 'high 1']\n",
    "print(metrics.classification_report(y_test, cv_preds2, target_names=target_names))"
   ]
  },
  {
   "cell_type": "code",
   "execution_count": 17,
   "id": "da0b8db9",
   "metadata": {
    "execution": {
     "iopub.execute_input": "2024-01-05T09:31:21.777210Z",
     "iopub.status.busy": "2024-01-05T09:31:21.776435Z",
     "iopub.status.idle": "2024-01-05T09:31:21.794083Z",
     "shell.execute_reply": "2024-01-05T09:31:21.793305Z"
    },
    "id": "qs4nHEvx-SI3",
    "papermill": {
     "duration": 0.250057,
     "end_time": "2024-01-05T09:31:21.795993",
     "exception": false,
     "start_time": "2024-01-05T09:31:21.545936",
     "status": "completed"
    },
    "tags": []
   },
   "outputs": [],
   "source": [
    "rnnamp_model = pd.read_csv('/kaggle/input/hemolytic/hlppredfuse.csv')"
   ]
  },
  {
   "cell_type": "code",
   "execution_count": 18,
   "id": "2a3fffe0",
   "metadata": {
    "execution": {
     "iopub.execute_input": "2024-01-05T09:31:22.247382Z",
     "iopub.status.busy": "2024-01-05T09:31:22.246498Z",
     "iopub.status.idle": "2024-01-05T09:31:22.251905Z",
     "shell.execute_reply": "2024-01-05T09:31:22.250898Z"
    },
    "id": "XlB6biA8-SI-",
    "papermill": {
     "duration": 0.23718,
     "end_time": "2024-01-05T09:31:22.253815",
     "exception": false,
     "start_time": "2024-01-05T09:31:22.016635",
     "status": "completed"
    },
    "tags": []
   },
   "outputs": [],
   "source": [
    "X=rnnamp_model['text']\n",
    "y=np.array(rnnamp_model['labels'])\n"
   ]
  },
  {
   "cell_type": "code",
   "execution_count": 19,
   "id": "089a0c12",
   "metadata": {
    "execution": {
     "iopub.execute_input": "2024-01-05T09:31:22.716307Z",
     "iopub.status.busy": "2024-01-05T09:31:22.715376Z",
     "iopub.status.idle": "2024-01-05T09:31:22.722071Z",
     "shell.execute_reply": "2024-01-05T09:31:22.721284Z"
    },
    "id": "f5fFAg1x-SI-",
    "papermill": {
     "duration": 0.240151,
     "end_time": "2024-01-05T09:31:22.724253",
     "exception": false,
     "start_time": "2024-01-05T09:31:22.484102",
     "status": "completed"
    },
    "tags": []
   },
   "outputs": [],
   "source": [
    "X_train, X_test, y_train, y_test= train_test_split(X,y, test_size=0.2, random_state=0)\n"
   ]
  },
  {
   "cell_type": "code",
   "execution_count": 20,
   "id": "8b6f12fa",
   "metadata": {
    "execution": {
     "iopub.execute_input": "2024-01-05T09:31:23.187398Z",
     "iopub.status.busy": "2024-01-05T09:31:23.187011Z",
     "iopub.status.idle": "2024-01-05T09:31:23.191752Z",
     "shell.execute_reply": "2024-01-05T09:31:23.190932Z"
    },
    "id": "_0LgRfEY-SI_",
    "papermill": {
     "duration": 0.228603,
     "end_time": "2024-01-05T09:31:23.193793",
     "exception": false,
     "start_time": "2024-01-05T09:31:22.965190",
     "status": "completed"
    },
    "tags": []
   },
   "outputs": [],
   "source": [
    "X_train=np.array(X_train)\n",
    "X_test=np.array(X_test)"
   ]
  },
  {
   "cell_type": "code",
   "execution_count": 21,
   "id": "0238b6fb",
   "metadata": {
    "execution": {
     "iopub.execute_input": "2024-01-05T09:31:23.648829Z",
     "iopub.status.busy": "2024-01-05T09:31:23.648363Z",
     "iopub.status.idle": "2024-01-05T09:31:24.703968Z",
     "shell.execute_reply": "2024-01-05T09:31:24.703133Z"
    },
    "id": "kTXGBr65-SI_",
    "papermill": {
     "duration": 1.283073,
     "end_time": "2024-01-05T09:31:24.706574",
     "exception": false,
     "start_time": "2024-01-05T09:31:23.423501",
     "status": "completed"
    },
    "tags": []
   },
   "outputs": [],
   "source": [
    "def tokenizer(text,max_len):\n",
    "  #dic={'A':1,'G':1,'V':1,'I':2,'L':2,'F':2,'P':2,'Y':3,'M':3,'T':3,'S':3,'H':4,'N':4,'Q':4,'W':4,'K':5,'R':5,'D':6,'E':6,'C':7}\n",
    "  dic={'A':1,'G':2,'V':3,'I':4,'L':5,'F':6,'P':7,'Y':8,'M':9,'T':10,'S':11,'H':12,'N':13,'Q':14,'W':15,'K':16,'R':17,'D':18,'E':19,'C':20}\n",
    "  onehot=[]\n",
    "  t=[]\n",
    "  for i in range(len(text)):\n",
    "    row=[]\n",
    "    l=[]\n",
    "    char=text[i].split(' ')\n",
    "    for j in range(max_len):\n",
    "      if j< len(char):\n",
    "        row.append(dic[char[j]])\n",
    "        r=np.zeros(20)\n",
    "        r[dic[char[j]]-1]=1\n",
    "      else:\n",
    "        r=np.ones(20)*-1\n",
    "        row.append(0)\n",
    "      l.append(r)\n",
    "    l=np.array(l)\n",
    "    onehot.append(l)\n",
    "    t.append(row)\n",
    "  onehot=np.array(onehot)\n",
    "  t=np.array(t)\n",
    "  return t,onehot\n",
    "max_len=50\n",
    "X_train,onehot_train=tokenizer(X_train,max_len)\n",
    "X_test,onehot_test=tokenizer(X_test,max_len)\n"
   ]
  },
  {
   "cell_type": "code",
   "execution_count": 22,
   "id": "af8ff109",
   "metadata": {
    "execution": {
     "iopub.execute_input": "2024-01-05T09:31:25.161688Z",
     "iopub.status.busy": "2024-01-05T09:31:25.161054Z",
     "iopub.status.idle": "2024-01-05T09:33:12.837345Z",
     "shell.execute_reply": "2024-01-05T09:33:12.836467Z"
    },
    "id": "4o7zagCK7eRH",
    "outputId": "6a276bf5-38a8-4d50-e9fa-e814e185bfd6",
    "papermill": {
     "duration": 107.905654,
     "end_time": "2024-01-05T09:33:12.839586",
     "exception": false,
     "start_time": "2024-01-05T09:31:24.933932",
     "status": "completed"
    },
    "tags": []
   },
   "outputs": [
    {
     "name": "stdout",
     "output_type": "stream",
     "text": [
      "Epoch 1/100\n",
      "80/80 [==============================] - 11s 33ms/step - loss: 4.6916 - accuracy: 0.8476 - val_loss: 4.1994 - val_accuracy: 0.9255\n",
      "Epoch 2/100\n",
      "80/80 [==============================] - 2s 21ms/step - loss: 3.9482 - accuracy: 0.9325 - val_loss: 3.6413 - val_accuracy: 0.9504\n",
      "Epoch 3/100\n",
      "80/80 [==============================] - 2s 20ms/step - loss: 3.3808 - accuracy: 0.9593 - val_loss: 3.2301 - val_accuracy: 0.9255\n",
      "Epoch 4/100\n",
      "80/80 [==============================] - 1s 18ms/step - loss: 2.9266 - accuracy: 0.9625 - val_loss: 2.7630 - val_accuracy: 0.9433\n",
      "Epoch 5/100\n",
      "80/80 [==============================] - 2s 20ms/step - loss: 2.5216 - accuracy: 0.9763 - val_loss: 2.4373 - val_accuracy: 0.9397\n",
      "Epoch 6/100\n",
      "80/80 [==============================] - 2s 19ms/step - loss: 2.1995 - accuracy: 0.9767 - val_loss: 2.1434 - val_accuracy: 0.9539\n",
      "Epoch 7/100\n",
      "80/80 [==============================] - 1s 18ms/step - loss: 1.9144 - accuracy: 0.9814 - val_loss: 1.9028 - val_accuracy: 0.9397\n",
      "Epoch 8/100\n",
      "80/80 [==============================] - 1s 18ms/step - loss: 1.6746 - accuracy: 0.9870 - val_loss: 1.7048 - val_accuracy: 0.9504\n",
      "Epoch 9/100\n",
      "80/80 [==============================] - 1s 18ms/step - loss: 1.4708 - accuracy: 0.9901 - val_loss: 1.5331 - val_accuracy: 0.9433\n",
      "Epoch 10/100\n",
      "80/80 [==============================] - 1s 18ms/step - loss: 1.3023 - accuracy: 0.9917 - val_loss: 1.4169 - val_accuracy: 0.9326\n",
      "Epoch 11/100\n",
      "80/80 [==============================] - 1s 18ms/step - loss: 1.1613 - accuracy: 0.9901 - val_loss: 1.2370 - val_accuracy: 0.9539\n",
      "Epoch 12/100\n",
      "80/80 [==============================] - 1s 19ms/step - loss: 1.0337 - accuracy: 0.9953 - val_loss: 1.1296 - val_accuracy: 0.9539\n",
      "Epoch 13/100\n",
      "80/80 [==============================] - 1s 18ms/step - loss: 0.9346 - accuracy: 0.9929 - val_loss: 1.0458 - val_accuracy: 0.9468\n",
      "Epoch 14/100\n",
      "80/80 [==============================] - 1s 18ms/step - loss: 0.8363 - accuracy: 0.9968 - val_loss: 0.9651 - val_accuracy: 0.9539\n",
      "Epoch 15/100\n",
      "80/80 [==============================] - 1s 18ms/step - loss: 0.7550 - accuracy: 0.9953 - val_loss: 0.8958 - val_accuracy: 0.9397\n",
      "Epoch 16/100\n",
      "80/80 [==============================] - 2s 20ms/step - loss: 0.6943 - accuracy: 0.9941 - val_loss: 0.8136 - val_accuracy: 0.9574\n",
      "Epoch 17/100\n",
      "80/80 [==============================] - 2s 21ms/step - loss: 0.6307 - accuracy: 0.9933 - val_loss: 0.7855 - val_accuracy: 0.9397\n",
      "Epoch 18/100\n",
      "80/80 [==============================] - 1s 18ms/step - loss: 0.5763 - accuracy: 0.9945 - val_loss: 0.7104 - val_accuracy: 0.9468\n",
      "Epoch 19/100\n",
      "80/80 [==============================] - 1s 18ms/step - loss: 0.5188 - accuracy: 0.9988 - val_loss: 0.6454 - val_accuracy: 0.9433\n",
      "Epoch 20/100\n",
      "80/80 [==============================] - 1s 18ms/step - loss: 0.4715 - accuracy: 0.9992 - val_loss: 0.6179 - val_accuracy: 0.9468\n",
      "Epoch 21/100\n",
      "80/80 [==============================] - 1s 18ms/step - loss: 0.4293 - accuracy: 1.0000 - val_loss: 0.5801 - val_accuracy: 0.9504\n",
      "Epoch 22/100\n",
      "80/80 [==============================] - 1s 18ms/step - loss: 0.3928 - accuracy: 0.9996 - val_loss: 0.5212 - val_accuracy: 0.9468\n",
      "Epoch 23/100\n",
      "80/80 [==============================] - 1s 18ms/step - loss: 0.3579 - accuracy: 1.0000 - val_loss: 0.4837 - val_accuracy: 0.9539\n",
      "Epoch 24/100\n",
      "80/80 [==============================] - 2s 19ms/step - loss: 0.3286 - accuracy: 0.9996 - val_loss: 0.4432 - val_accuracy: 0.9610\n",
      "Epoch 25/100\n",
      "80/80 [==============================] - 2s 20ms/step - loss: 0.3017 - accuracy: 0.9996 - val_loss: 0.3919 - val_accuracy: 0.9645\n",
      "Epoch 26/100\n",
      "80/80 [==============================] - 1s 18ms/step - loss: 0.2749 - accuracy: 1.0000 - val_loss: 0.3839 - val_accuracy: 0.9645\n",
      "Epoch 27/100\n",
      "80/80 [==============================] - 1s 18ms/step - loss: 0.2526 - accuracy: 0.9992 - val_loss: 0.3689 - val_accuracy: 0.9610\n",
      "Epoch 28/100\n",
      "80/80 [==============================] - 2s 21ms/step - loss: 0.2783 - accuracy: 0.9806 - val_loss: 0.3821 - val_accuracy: 0.9433\n",
      "Epoch 29/100\n",
      "80/80 [==============================] - 1s 18ms/step - loss: 0.2310 - accuracy: 0.9949 - val_loss: 0.3416 - val_accuracy: 0.9610\n",
      "Epoch 30/100\n",
      "80/80 [==============================] - 1s 18ms/step - loss: 0.2003 - accuracy: 0.9992 - val_loss: 0.3002 - val_accuracy: 0.9645\n",
      "Epoch 31/100\n",
      "80/80 [==============================] - 1s 18ms/step - loss: 0.1820 - accuracy: 1.0000 - val_loss: 0.3033 - val_accuracy: 0.9574\n",
      "Epoch 32/100\n",
      "80/80 [==============================] - 2s 20ms/step - loss: 0.1653 - accuracy: 1.0000 - val_loss: 0.2678 - val_accuracy: 0.9681\n",
      "Epoch 33/100\n",
      "80/80 [==============================] - 1s 18ms/step - loss: 0.1511 - accuracy: 1.0000 - val_loss: 0.2570 - val_accuracy: 0.9645\n",
      "Epoch 34/100\n",
      "80/80 [==============================] - 1s 18ms/step - loss: 0.1434 - accuracy: 0.9961 - val_loss: 0.2791 - val_accuracy: 0.9645\n",
      "Epoch 35/100\n",
      "80/80 [==============================] - 1s 18ms/step - loss: 0.1476 - accuracy: 0.9925 - val_loss: 0.3833 - val_accuracy: 0.9291\n",
      "Epoch 36/100\n",
      "80/80 [==============================] - 2s 20ms/step - loss: 0.1403 - accuracy: 0.9925 - val_loss: 0.2428 - val_accuracy: 0.9752\n",
      "Epoch 37/100\n",
      "80/80 [==============================] - 1s 18ms/step - loss: 0.1173 - accuracy: 0.9984 - val_loss: 0.2454 - val_accuracy: 0.9610\n",
      "Epoch 38/100\n",
      "80/80 [==============================] - 1s 18ms/step - loss: 0.1028 - accuracy: 1.0000 - val_loss: 0.2332 - val_accuracy: 0.9610\n",
      "Epoch 39/100\n",
      "80/80 [==============================] - 1s 18ms/step - loss: 0.0930 - accuracy: 1.0000 - val_loss: 0.2183 - val_accuracy: 0.9681\n",
      "Epoch 40/100\n",
      "80/80 [==============================] - 1s 18ms/step - loss: 0.0850 - accuracy: 1.0000 - val_loss: 0.2043 - val_accuracy: 0.9645\n",
      "Epoch 41/100\n",
      "80/80 [==============================] - 1s 18ms/step - loss: 0.0861 - accuracy: 0.9961 - val_loss: 0.2154 - val_accuracy: 0.9645\n",
      "Epoch 42/100\n",
      "80/80 [==============================] - 1s 18ms/step - loss: 0.0868 - accuracy: 0.9941 - val_loss: 0.2020 - val_accuracy: 0.9681\n",
      "Epoch 43/100\n",
      "80/80 [==============================] - 1s 18ms/step - loss: 0.0778 - accuracy: 0.9961 - val_loss: 0.2099 - val_accuracy: 0.9610\n",
      "Epoch 44/100\n",
      "80/80 [==============================] - 1s 18ms/step - loss: 0.0876 - accuracy: 0.9909 - val_loss: 0.1762 - val_accuracy: 0.9716\n",
      "Epoch 45/100\n",
      "80/80 [==============================] - 1s 18ms/step - loss: 0.0615 - accuracy: 0.9996 - val_loss: 0.2168 - val_accuracy: 0.9574\n",
      "Epoch 46/100\n",
      "80/80 [==============================] - 1s 18ms/step - loss: 0.0550 - accuracy: 1.0000 - val_loss: 0.1795 - val_accuracy: 0.9681\n",
      "Epoch 47/100\n",
      "80/80 [==============================] - 1s 18ms/step - loss: 0.0498 - accuracy: 1.0000 - val_loss: 0.1893 - val_accuracy: 0.9645\n",
      "Epoch 48/100\n",
      "80/80 [==============================] - 1s 18ms/step - loss: 0.0454 - accuracy: 1.0000 - val_loss: 0.1702 - val_accuracy: 0.9716\n",
      "Epoch 49/100\n",
      "80/80 [==============================] - 1s 18ms/step - loss: 0.0416 - accuracy: 1.0000 - val_loss: 0.1935 - val_accuracy: 0.9574\n",
      "Epoch 50/100\n",
      "80/80 [==============================] - 1s 18ms/step - loss: 0.0381 - accuracy: 1.0000 - val_loss: 0.1743 - val_accuracy: 0.9681\n",
      "Epoch 51/100\n",
      "80/80 [==============================] - 1s 18ms/step - loss: 0.0350 - accuracy: 1.0000 - val_loss: 0.1750 - val_accuracy: 0.9716\n",
      "Epoch 52/100\n",
      "80/80 [==============================] - 1s 18ms/step - loss: 0.0324 - accuracy: 1.0000 - val_loss: 0.1773 - val_accuracy: 0.9645\n",
      "Epoch 53/100\n",
      "80/80 [==============================] - 1s 18ms/step - loss: 0.0299 - accuracy: 1.0000 - val_loss: 0.1723 - val_accuracy: 0.9645\n",
      "Epoch 54/100\n",
      "80/80 [==============================] - 1s 18ms/step - loss: 0.0275 - accuracy: 1.0000 - val_loss: 0.1710 - val_accuracy: 0.9716\n",
      "Epoch 55/100\n",
      "80/80 [==============================] - 1s 18ms/step - loss: 0.0255 - accuracy: 1.0000 - val_loss: 0.1684 - val_accuracy: 0.9681\n",
      "Epoch 56/100\n",
      "80/80 [==============================] - 1s 18ms/step - loss: 0.0237 - accuracy: 1.0000 - val_loss: 0.1678 - val_accuracy: 0.9645\n",
      "Epoch 57/100\n",
      "80/80 [==============================] - 1s 18ms/step - loss: 0.0222 - accuracy: 1.0000 - val_loss: 0.1648 - val_accuracy: 0.9681\n",
      "Epoch 58/100\n",
      "80/80 [==============================] - 1s 18ms/step - loss: 0.0207 - accuracy: 1.0000 - val_loss: 0.1721 - val_accuracy: 0.9716\n",
      "Epoch 59/100\n",
      "80/80 [==============================] - 1s 18ms/step - loss: 0.0195 - accuracy: 1.0000 - val_loss: 0.1762 - val_accuracy: 0.9610\n",
      "Epoch 60/100\n",
      "80/80 [==============================] - 1s 18ms/step - loss: 0.0183 - accuracy: 1.0000 - val_loss: 0.1720 - val_accuracy: 0.9716\n",
      "Epoch 61/100\n",
      "80/80 [==============================] - 1s 18ms/step - loss: 0.0173 - accuracy: 1.0000 - val_loss: 0.1693 - val_accuracy: 0.9681\n",
      "Epoch 62/100\n",
      "80/80 [==============================] - 1s 18ms/step - loss: 0.0164 - accuracy: 1.0000 - val_loss: 0.1706 - val_accuracy: 0.9716\n",
      "Epoch 63/100\n",
      "80/80 [==============================] - 1s 18ms/step - loss: 0.0157 - accuracy: 1.0000 - val_loss: 0.1700 - val_accuracy: 0.9716\n",
      "Epoch 64/100\n",
      "80/80 [==============================] - 1s 18ms/step - loss: 0.0150 - accuracy: 1.0000 - val_loss: 0.1678 - val_accuracy: 0.9716\n",
      "Epoch 65/100\n",
      "80/80 [==============================] - 1s 18ms/step - loss: 0.0143 - accuracy: 1.0000 - val_loss: 0.1665 - val_accuracy: 0.9716\n",
      "Epoch 66/100\n",
      "80/80 [==============================] - 1s 18ms/step - loss: 0.0139 - accuracy: 1.0000 - val_loss: 0.1788 - val_accuracy: 0.9716\n",
      "Epoch 67/100\n",
      "80/80 [==============================] - 1s 18ms/step - loss: 0.0136 - accuracy: 1.0000 - val_loss: 0.1866 - val_accuracy: 0.9645\n"
     ]
    }
   ],
   "source": [
    "# Define the Transformer model\n",
    "@register_keras_serializable()\n",
    "class TransformerModel(keras.Model):\n",
    "    def __init__(self, input_vocab_size, d_model, num_heads, ff_dim, rate=0.1, maxlen=50):\n",
    "        super(TransformerModel, self).__init__()\n",
    "        self.dropout1 = layers.Dropout(rate)\n",
    "        self.dropout2 = layers.Dropout(rate)\n",
    "        self.dropout3 = layers.Dropout(rate)\n",
    "        self.embedding = layers.Embedding(input_vocab_size, d_model)\n",
    "        self.PE = positional_encoding(maxlen, d_model)\n",
    "        self.transformer_block = TransformerBlock_Encode(d_model, num_heads, ff_dim, rate)\n",
    "        self.transformer_block2 = TransformerBlock_decode(d_model, num_heads, ff_dim, rate)\n",
    "        self.flatten = layers.Flatten()\n",
    "        self.fc1 = layers.Dense(512, activation=\"relu\",kernel_regularizer=tf.keras.regularizers.l2(l2=0.001))\n",
    "        self.fc3 = layers.Dense(256, activation=\"relu\",kernel_regularizer=tf.keras.regularizers.l2(l2=0.01))\n",
    "        self.fc2 = layers.Dense(1, activation=\"sigmoid\",kernel_regularizer=tf.keras.regularizers.l2(l2=0.1))\n",
    "\n",
    "    def call(self, inputs, training):\n",
    "        x = self.embedding(inputs)\n",
    "        #x = x+self.PE\n",
    "        y = self.transformer_block(x)\n",
    "        y = self.dropout1(y)\n",
    "        x = self.transformer_block2(x,y,y)\n",
    "        x = self.dropout2(x)\n",
    "        x = self.flatten(x)\n",
    "        x = self.fc1(x)\n",
    "        x = self.fc3(x)\n",
    "        x = self.dropout3(x)\n",
    "        return self.fc2(x)\n",
    "class TransformerBlock_decode(layers.Layer):\n",
    "    def __init__(self, d_model, num_heads, ff_dim, rate=0.1):\n",
    "        super(TransformerBlock_decode, self).__init__()\n",
    "        self.att = layers.MultiHeadAttention(num_heads=num_heads, key_dim=d_model)\n",
    "        self.att1 = layers.MultiHeadAttention(num_heads=num_heads, key_dim=d_model)\n",
    "        self.ffn = keras.Sequential(\n",
    "            [layers.Dense(ff_dim, activation=\"relu\"), layers.Dense(d_model)]\n",
    "        )\n",
    "        self.layernorm1 = layers.LayerNormalization(epsilon=1e-1)\n",
    "        self.layernorm3 = layers.LayerNormalization(epsilon=1e-1)\n",
    "        self.layernorm2 = layers.LayerNormalization(epsilon=1e-1)\n",
    "        self.dropout1 = layers.Dropout(rate)\n",
    "        self.dropout2 = layers.Dropout(rate)\n",
    "        self.dropout3 = layers.Dropout(rate)\n",
    "    def call(self, inputs,q,k, training):\n",
    "        attn_output = self.att(inputs, inputs,inputs)\n",
    "        out1 = self.layernorm1(inputs + attn_output)\n",
    "        attn_output1=self.att(q, k,out1)\n",
    "        out2 = self.layernorm1(out1 + attn_output1)\n",
    "        ffn_output = self.ffn(out2)\n",
    "        return self.layernorm2(out2 + ffn_output)\n",
    "\n",
    "# Define the TransformerBlock layer\n",
    "class TransformerBlock_Encode(layers.Layer):\n",
    "    def __init__(self, d_model, num_heads, ff_dim, rate=0.1):\n",
    "        super(TransformerBlock_Encode, self).__init__()\n",
    "        self.con= layers.Conv1D(256,5,padding='same')\n",
    "        self.att = layers.MultiHeadAttention(num_heads=num_heads, key_dim=d_model)\n",
    "        self.ffn = keras.Sequential(\n",
    "            [layers.Dense(ff_dim, activation=\"relu\"), layers.Dense(d_model)]\n",
    "        )\n",
    "        self.layernorm1 = layers.LayerNormalization(epsilon=1e-1)\n",
    "        self.layernorm2 = layers.LayerNormalization(epsilon=1e-1)\n",
    "        self.dropout1 = layers.Dropout(rate)\n",
    "        self.dropout2 = layers.Dropout(rate)\n",
    "    def call(self, inputs, training):\n",
    "        inputs=self.con(inputs)\n",
    "        attn_output = self.att(inputs, inputs,inputs)\n",
    "        out1 = self.layernorm1(inputs + attn_output)\n",
    "        ffn_output = self.ffn(out1)\n",
    "        return self.layernorm2(out1 + ffn_output)\n",
    "\n",
    "\n",
    "# Define your data loading and preprocessing here\n",
    "# Example: X_train, y_train = load_data_and_preprocess()\n",
    "\n",
    "# Define the model\n",
    "input_vocab_size = 1024  # Replace with the actual vocabulary size\n",
    "d_model = 256\n",
    "num_heads = 2\n",
    "ff_dim = 256\n",
    "model2 = TransformerModel(input_vocab_size, d_model, num_heads, ff_dim)\n",
    "initial_learning_rate = 0.0001\n",
    "optimizer = Adam(learning_rate=initial_learning_rate)\n",
    "# Compile the model\n",
    "model2.compile(optimizer=optimizer, loss=tf.keras.losses.BinaryCrossentropy(from_logits=False), metrics=[\"accuracy\"])\n",
    "\n",
    "callback = [tf.keras.callbacks.EarlyStopping(monitor='val_loss', patience=10),tf.keras.callbacks.ModelCheckpoint(filepath='AMAP2.h5', monitor='val_accuracy', save_best_only=True,mode='auto',save_weights_only=True)]\n",
    "\n",
    "# Train the model\n",
    "history = model2.fit(X_train,y_train,epochs = 100,batch_size=32,validation_split=0.1,callbacks=[callback],verbose=1,shuffle= True)\n"
   ]
  },
  {
   "cell_type": "code",
   "execution_count": 23,
   "id": "1e4edc11",
   "metadata": {
    "execution": {
     "iopub.execute_input": "2024-01-05T09:33:13.582241Z",
     "iopub.status.busy": "2024-01-05T09:33:13.581340Z",
     "iopub.status.idle": "2024-01-05T09:33:14.171453Z",
     "shell.execute_reply": "2024-01-05T09:33:14.170512Z"
    },
    "papermill": {
     "duration": 0.964117,
     "end_time": "2024-01-05T09:33:14.173614",
     "exception": false,
     "start_time": "2024-01-05T09:33:13.209497",
     "status": "completed"
    },
    "tags": []
   },
   "outputs": [
    {
     "data": {
      "image/png": "[encoded data removed]",
      "text/plain": [
       "<Figure size 640x480 with 1 Axes>"
      ]
     },
     "metadata": {},
     "output_type": "display_data"
    },
    {
     "data": {
      "image/png": "[encoded data removed]",
      "text/plain": [
       "<Figure size 640x480 with 1 Axes>"
      ]
     },
     "metadata": {},
     "output_type": "display_data"
    }
   ],
   "source": [
    "# Plot training accuracy\n",
    "plt.plot(history.history['accuracy'][:-10])\n",
    "plt.plot(history.history['val_accuracy'][:-10])\n",
    "plt.title('Model Accuracy')\n",
    "plt.xlabel('Epoch')\n",
    "plt.ylabel('Accuracy')\n",
    "plt.legend(['Train', 'Validation'], loc='upper left')\n",
    "plt.show()\n",
    "\n",
    "# Plot training loss\n",
    "plt.plot(history.history['loss'][:-10])\n",
    "plt.plot(history.history['val_loss'][:-10])\n",
    "plt.title('Model Loss')\n",
    "plt.xlabel('Epoch')\n",
    "plt.ylabel('Loss')\n",
    "plt.legend(['Train', 'Validation'], loc='upper left')\n",
    "plt.show()"
   ]
  },
  {
   "cell_type": "code",
   "execution_count": 24,
   "id": "2d89ba20",
   "metadata": {
    "execution": {
     "iopub.execute_input": "2024-01-05T09:33:14.934569Z",
     "iopub.status.busy": "2024-01-05T09:33:14.933802Z",
     "iopub.status.idle": "2024-01-05T09:33:15.000491Z",
     "shell.execute_reply": "2024-01-05T09:33:14.999665Z"
    },
    "id": "oxPvpG1Z7m2v",
    "papermill": {
     "duration": 0.455121,
     "end_time": "2024-01-05T09:33:15.002708",
     "exception": false,
     "start_time": "2024-01-05T09:33:14.547587",
     "status": "completed"
    },
    "tags": []
   },
   "outputs": [],
   "source": [
    "model2.load_weights('AMAP2.h5')"
   ]
  },
  {
   "cell_type": "code",
   "execution_count": 25,
   "id": "b2e64bc1",
   "metadata": {
    "execution": {
     "iopub.execute_input": "2024-01-05T09:33:15.787348Z",
     "iopub.status.busy": "2024-01-05T09:33:15.786699Z",
     "iopub.status.idle": "2024-01-05T09:33:15.891815Z",
     "shell.execute_reply": "2024-01-05T09:33:15.890797Z"
    },
    "id": "k9NxcbR5Lh4f",
    "papermill": {
     "duration": 0.527077,
     "end_time": "2024-01-05T09:33:15.895786",
     "exception": false,
     "start_time": "2024-01-05T09:33:15.368709",
     "status": "completed"
    },
    "tags": []
   },
   "outputs": [],
   "source": [
    "model2.save_weights(\"AMAP2.h5\")"
   ]
  },
  {
   "cell_type": "code",
   "execution_count": 26,
   "id": "83989a48",
   "metadata": {
    "execution": {
     "iopub.execute_input": "2024-01-05T09:33:16.673692Z",
     "iopub.status.busy": "2024-01-05T09:33:16.672858Z",
     "iopub.status.idle": "2024-01-05T09:33:18.228589Z",
     "shell.execute_reply": "2024-01-05T09:33:18.227482Z"
    },
    "id": "x71T_rAI7m2v",
    "outputId": "f5cf2956-e0fe-4936-dfdc-ec892cacb6d3",
    "papermill": {
     "duration": 1.955122,
     "end_time": "2024-01-05T09:33:18.230568",
     "exception": false,
     "start_time": "2024-01-05T09:33:16.275446",
     "status": "completed"
    },
    "tags": []
   },
   "outputs": [
    {
     "name": "stdout",
     "output_type": "stream",
     "text": [
      "88/88 [==============================] - 1s 8ms/step\n",
      "hlppredfuse train datasets\n",
      "deep learning: Accuracy 99.61%\n",
      "deep learning: Precision-Recall 98.96%\n",
      "deep learning: Matthews Coefficient 99.09%\n",
      "deep learning: Cohen Kappa Score 99.09%\n",
      "deep learning: ROC AUC Score 99.53%\n",
      "              precision    recall  f1-score   support\n",
      "\n",
      "       low 0       1.00      1.00      1.00      1938\n",
      "      high 1       0.99      0.99      0.99       876\n",
      "\n",
      "    accuracy                           1.00      2814\n",
      "   macro avg       1.00      1.00      1.00      2814\n",
      "weighted avg       1.00      1.00      1.00      2814\n",
      "\n",
      "hlppredfuse test datasets\n",
      "22/22 [==============================] - 0s 6ms/step\n",
      "deep learning: Accuracy 96.45%\n",
      "deep learning: Precision 93.33%\n",
      "deep learning: Recall 95.45%\n",
      "deep learning: Matthews Coefficient 91.80%\n",
      "deep learning: Cohen Kappa Score 91.79%\n",
      "deep learning: ROC AUC Score 96.18%\n",
      "              precision    recall  f1-score   support\n",
      "\n",
      "       low 0       0.98      0.97      0.97       484\n",
      "      high 1       0.93      0.95      0.94       220\n",
      "\n",
      "    accuracy                           0.96       704\n",
      "   macro avg       0.96      0.96      0.96       704\n",
      "weighted avg       0.96      0.96      0.96       704\n",
      "\n"
     ]
    }
   ],
   "source": [
    "from sklearn import model_selection, metrics\n",
    "y_pred=model2.predict(X_train)\n",
    "y_pred[y_pred>0.5]=1\n",
    "y_pred[y_pred<0.5]=0\n",
    "\n",
    "cv_preds = y_pred\n",
    "print('hlppredfuse train datasets')\n",
    "name='deep learning'\n",
    "print(\"%s: Accuracy %0.2f%%\" % (name, 100*metrics.accuracy_score(y_train, cv_preds)))\n",
    "print(\"%s: Precision-Recall %0.2f%%\" % (name, 100*metrics.average_precision_score(y_train, cv_preds)))\n",
    "print(\"%s: Matthews Coefficient %0.2f%%\" % (name, 100*metrics.matthews_corrcoef(y_train, cv_preds)))\n",
    "print(\"%s: Cohen Kappa Score %0.2f%%\" % (name, 100*metrics.cohen_kappa_score(y_train, cv_preds)))\n",
    "print(\"%s: ROC AUC Score %0.2f%%\" % (name, 100*metrics.roc_auc_score(y_train, cv_preds)))\n",
    "target_names = ['low 0', 'high 1']\n",
    "print(metrics.classification_report(y_train, cv_preds, target_names=target_names))\n",
    "\n",
    "# Predictions Validation Set\n",
    "print('hlppredfuse test datasets')\n",
    "y_pred2=model2.predict(X_test)\n",
    "l=np.zeros(len(y_pred2))\n",
    "l=l.reshape(-1,1)\n",
    "l[y_pred2>=0.5]=1\n",
    "l[y_pred2<0.5]=0\n",
    "cv_preds2 = l\n",
    "print(\"%s: Accuracy %0.2f%%\" % (name, 100*metrics.accuracy_score(y_test, cv_preds2)))\n",
    "print(\"%s: Precision %0.2f%%\" % (name, 100*metrics.precision_score(y_test, cv_preds2)))\n",
    "print(\"%s: Recall %0.2f%%\" % (name, 100*metrics.recall_score(y_test, cv_preds2)))\n",
    "print(\"%s: Matthews Coefficient %0.2f%%\" % (name, 100*metrics.matthews_corrcoef(y_test, cv_preds2)))\n",
    "print(\"%s: Cohen Kappa Score %0.2f%%\" % (name, 100*metrics.cohen_kappa_score(y_test, cv_preds2)))\n",
    "print(\"%s: ROC AUC Score %0.2f%%\" % (name, 100*metrics.roc_auc_score(y_test, cv_preds2)))\n",
    "target_names = ['low 0', 'high 1']\n",
    "print(metrics.classification_report(y_test, cv_preds2, target_names=target_names))"
   ]
  },
  {
   "cell_type": "code",
   "execution_count": 27,
   "id": "0f29b841",
   "metadata": {
    "execution": {
     "iopub.execute_input": "2024-01-05T09:33:18.983965Z",
     "iopub.status.busy": "2024-01-05T09:33:18.983589Z",
     "iopub.status.idle": "2024-01-05T09:33:19.002797Z",
     "shell.execute_reply": "2024-01-05T09:33:19.001973Z"
    },
    "id": "7kJr65zb-WtS",
    "papermill": {
     "duration": 0.398447,
     "end_time": "2024-01-05T09:33:19.004840",
     "exception": false,
     "start_time": "2024-01-05T09:33:18.606393",
     "status": "completed"
    },
    "tags": []
   },
   "outputs": [],
   "source": [
    "rnnamp_model = pd.read_csv('/kaggle/input/hemolytic/rnnamp.csv')"
   ]
  },
  {
   "cell_type": "code",
   "execution_count": 28,
   "id": "5cd90b23",
   "metadata": {
    "execution": {
     "iopub.execute_input": "2024-01-05T09:33:19.796024Z",
     "iopub.status.busy": "2024-01-05T09:33:19.795238Z",
     "iopub.status.idle": "2024-01-05T09:33:19.800448Z",
     "shell.execute_reply": "2024-01-05T09:33:19.799491Z"
    },
    "id": "WCgqgMiP-WtS",
    "papermill": {
     "duration": 0.428881,
     "end_time": "2024-01-05T09:33:19.802305",
     "exception": false,
     "start_time": "2024-01-05T09:33:19.373424",
     "status": "completed"
    },
    "tags": []
   },
   "outputs": [],
   "source": [
    "X=rnnamp_model['text']\n",
    "y=np.array(rnnamp_model['labels'])\n"
   ]
  },
  {
   "cell_type": "code",
   "execution_count": 29,
   "id": "26d6d3fb",
   "metadata": {
    "execution": {
     "iopub.execute_input": "2024-01-05T09:33:20.552116Z",
     "iopub.status.busy": "2024-01-05T09:33:20.551215Z",
     "iopub.status.idle": "2024-01-05T09:33:20.558135Z",
     "shell.execute_reply": "2024-01-05T09:33:20.557206Z"
    },
    "id": "ia1ZGn2t-WtT",
    "papermill": {
     "duration": 0.384205,
     "end_time": "2024-01-05T09:33:20.560188",
     "exception": false,
     "start_time": "2024-01-05T09:33:20.175983",
     "status": "completed"
    },
    "tags": []
   },
   "outputs": [],
   "source": [
    "X_train, X_test, y_train, y_test= train_test_split(X,y, test_size=0.2, random_state=0)\n"
   ]
  },
  {
   "cell_type": "code",
   "execution_count": 30,
   "id": "f6fdf39d",
   "metadata": {
    "execution": {
     "iopub.execute_input": "2024-01-05T09:33:21.304995Z",
     "iopub.status.busy": "2024-01-05T09:33:21.304256Z",
     "iopub.status.idle": "2024-01-05T09:33:21.309049Z",
     "shell.execute_reply": "2024-01-05T09:33:21.307984Z"
    },
    "id": "ZTPCKy2d-WtT",
    "papermill": {
     "duration": 0.372618,
     "end_time": "2024-01-05T09:33:21.311137",
     "exception": false,
     "start_time": "2024-01-05T09:33:20.938519",
     "status": "completed"
    },
    "tags": []
   },
   "outputs": [],
   "source": [
    "X_train=np.array(X_train)\n",
    "X_test=np.array(X_test)"
   ]
  },
  {
   "cell_type": "code",
   "execution_count": 31,
   "id": "07f2c750",
   "metadata": {
    "execution": {
     "iopub.execute_input": "2024-01-05T09:33:22.064303Z",
     "iopub.status.busy": "2024-01-05T09:33:22.063391Z",
     "iopub.status.idle": "2024-01-05T09:33:22.824816Z",
     "shell.execute_reply": "2024-01-05T09:33:22.823972Z"
    },
    "id": "LfLheYBz-WtT",
    "papermill": {
     "duration": 1.145003,
     "end_time": "2024-01-05T09:33:22.826990",
     "exception": false,
     "start_time": "2024-01-05T09:33:21.681987",
     "status": "completed"
    },
    "tags": []
   },
   "outputs": [],
   "source": [
    "def tokenizer(text,max_len):\n",
    "  #dic={'A':1,'G':1,'V':1,'I':2,'L':2,'F':2,'P':2,'Y':3,'M':3,'T':3,'S':3,'H':4,'N':4,'Q':4,'W':4,'K':5,'R':5,'D':6,'E':6,'C':7}\n",
    "  dic={'A':1,'G':2,'V':3,'I':4,'L':5,'F':6,'P':7,'Y':8,'M':9,'T':10,'S':11,'H':12,'N':13,'Q':14,'W':15,'K':16,'R':17,'D':18,'E':19,'C':20}\n",
    "  onehot=[]\n",
    "  t=[]\n",
    "  for i in range(len(text)):\n",
    "    row=[]\n",
    "    l=[]\n",
    "    char=text[i].split(' ')\n",
    "    for j in range(max_len):\n",
    "      if j< len(char):\n",
    "        row.append(dic[char[j]])\n",
    "        r=np.zeros(20)\n",
    "        r[dic[char[j]]-1]=1\n",
    "      else:\n",
    "        r=np.ones(20)*-1\n",
    "        row.append(0)\n",
    "      l.append(r)\n",
    "    l=np.array(l)\n",
    "    onehot.append(l)\n",
    "    t.append(row)\n",
    "  onehot=np.array(onehot)\n",
    "  t=np.array(t)\n",
    "  return t,onehot\n",
    "max_len=50\n",
    "X_train,onehot_train=tokenizer(X_train,max_len)\n",
    "X_test,onehot_test=tokenizer(X_test,max_len)\n"
   ]
  },
  {
   "cell_type": "code",
   "execution_count": 32,
   "id": "5ad1a271",
   "metadata": {
    "execution": {
     "iopub.execute_input": "2024-01-05T09:33:23.629667Z",
     "iopub.status.busy": "2024-01-05T09:33:23.628822Z",
     "iopub.status.idle": "2024-01-05T09:35:11.906174Z",
     "shell.execute_reply": "2024-01-05T09:35:11.905249Z"
    },
    "id": "wW0hCzH7-tEN",
    "outputId": "ece7fe92-0345-42bd-e68f-6682a7e7d5d8",
    "papermill": {
     "duration": 108.661484,
     "end_time": "2024-01-05T09:35:11.908498",
     "exception": false,
     "start_time": "2024-01-05T09:33:23.247014",
     "status": "completed"
    },
    "tags": []
   },
   "outputs": [
    {
     "name": "stdout",
     "output_type": "stream",
     "text": [
      "Epoch 1/100\n",
      "58/58 [==============================] - 10s 33ms/step - loss: 5.1096 - accuracy: 0.6250 - val_loss: 4.7953 - val_accuracy: 0.6634\n",
      "Epoch 2/100\n",
      "58/58 [==============================] - 1s 20ms/step - loss: 4.5455 - accuracy: 0.7462 - val_loss: 4.3870 - val_accuracy: 0.7220\n",
      "Epoch 3/100\n",
      "58/58 [==============================] - 1s 18ms/step - loss: 4.1097 - accuracy: 0.7870 - val_loss: 4.1650 - val_accuracy: 0.6634\n",
      "Epoch 4/100\n",
      "58/58 [==============================] - 1s 20ms/step - loss: 3.7402 - accuracy: 0.8141 - val_loss: 3.6812 - val_accuracy: 0.7756\n",
      "Epoch 5/100\n",
      "58/58 [==============================] - 1s 18ms/step - loss: 3.3945 - accuracy: 0.8375 - val_loss: 3.4438 - val_accuracy: 0.7610\n",
      "Epoch 6/100\n",
      "58/58 [==============================] - 1s 18ms/step - loss: 3.0958 - accuracy: 0.8592 - val_loss: 3.1501 - val_accuracy: 0.7610\n",
      "Epoch 7/100\n",
      "58/58 [==============================] - 1s 18ms/step - loss: 2.8272 - accuracy: 0.8810 - val_loss: 2.9421 - val_accuracy: 0.7415\n",
      "Epoch 8/100\n",
      "58/58 [==============================] - 1s 18ms/step - loss: 2.5836 - accuracy: 0.9005 - val_loss: 2.7435 - val_accuracy: 0.7463\n",
      "Epoch 9/100\n",
      "58/58 [==============================] - 1s 20ms/step - loss: 2.3819 - accuracy: 0.9098 - val_loss: 2.5621 - val_accuracy: 0.7805\n",
      "Epoch 10/100\n",
      "58/58 [==============================] - 1s 18ms/step - loss: 2.1910 - accuracy: 0.9217 - val_loss: 2.4693 - val_accuracy: 0.7463\n",
      "Epoch 11/100\n",
      "58/58 [==============================] - 1s 18ms/step - loss: 2.0509 - accuracy: 0.9147 - val_loss: 2.2832 - val_accuracy: 0.7756\n",
      "Epoch 12/100\n",
      "58/58 [==============================] - 1s 23ms/step - loss: 1.8879 - accuracy: 0.9413 - val_loss: 2.1925 - val_accuracy: 0.7854\n",
      "Epoch 13/100\n",
      "58/58 [==============================] - 1s 20ms/step - loss: 1.7456 - accuracy: 0.9451 - val_loss: 2.0886 - val_accuracy: 0.7902\n",
      "Epoch 14/100\n",
      "58/58 [==============================] - 1s 18ms/step - loss: 1.6312 - accuracy: 0.9538 - val_loss: 1.9665 - val_accuracy: 0.7854\n",
      "Epoch 15/100\n",
      "58/58 [==============================] - 1s 18ms/step - loss: 1.5314 - accuracy: 0.9516 - val_loss: 1.9031 - val_accuracy: 0.7561\n",
      "Epoch 16/100\n",
      "58/58 [==============================] - 1s 18ms/step - loss: 1.4399 - accuracy: 0.9543 - val_loss: 1.8207 - val_accuracy: 0.7902\n",
      "Epoch 17/100\n",
      "58/58 [==============================] - 1s 20ms/step - loss: 1.3500 - accuracy: 0.9641 - val_loss: 1.7659 - val_accuracy: 0.7951\n",
      "Epoch 18/100\n",
      "58/58 [==============================] - 1s 18ms/step - loss: 1.2721 - accuracy: 0.9668 - val_loss: 1.7195 - val_accuracy: 0.7951\n",
      "Epoch 19/100\n",
      "58/58 [==============================] - 1s 18ms/step - loss: 1.2003 - accuracy: 0.9668 - val_loss: 1.6860 - val_accuracy: 0.7707\n",
      "Epoch 20/100\n",
      "58/58 [==============================] - 1s 20ms/step - loss: 1.1375 - accuracy: 0.9696 - val_loss: 1.6093 - val_accuracy: 0.8000\n",
      "Epoch 21/100\n",
      "58/58 [==============================] - 1s 18ms/step - loss: 1.0710 - accuracy: 0.9723 - val_loss: 1.5887 - val_accuracy: 0.7610\n",
      "Epoch 22/100\n",
      "58/58 [==============================] - 1s 18ms/step - loss: 1.0367 - accuracy: 0.9625 - val_loss: 1.4961 - val_accuracy: 0.7854\n",
      "Epoch 23/100\n",
      "58/58 [==============================] - 1s 18ms/step - loss: 0.9686 - accuracy: 0.9761 - val_loss: 1.4563 - val_accuracy: 0.7902\n",
      "Epoch 24/100\n",
      "58/58 [==============================] - 1s 19ms/step - loss: 0.9172 - accuracy: 0.9777 - val_loss: 1.4228 - val_accuracy: 0.7951\n",
      "Epoch 25/100\n",
      "58/58 [==============================] - 1s 18ms/step - loss: 0.8694 - accuracy: 0.9810 - val_loss: 1.4503 - val_accuracy: 0.8000\n",
      "Epoch 26/100\n",
      "58/58 [==============================] - 1s 18ms/step - loss: 0.8580 - accuracy: 0.9707 - val_loss: 1.3538 - val_accuracy: 0.7854\n",
      "Epoch 27/100\n",
      "58/58 [==============================] - 1s 18ms/step - loss: 0.7948 - accuracy: 0.9848 - val_loss: 1.3039 - val_accuracy: 0.7902\n",
      "Epoch 28/100\n",
      "58/58 [==============================] - 1s 21ms/step - loss: 0.7561 - accuracy: 0.9804 - val_loss: 1.3439 - val_accuracy: 0.7854\n",
      "Epoch 29/100\n",
      "58/58 [==============================] - 1s 18ms/step - loss: 0.7267 - accuracy: 0.9842 - val_loss: 1.2989 - val_accuracy: 0.8000\n",
      "Epoch 30/100\n",
      "58/58 [==============================] - 1s 18ms/step - loss: 0.6869 - accuracy: 0.9859 - val_loss: 1.2501 - val_accuracy: 0.8000\n",
      "Epoch 31/100\n",
      "58/58 [==============================] - 1s 20ms/step - loss: 0.6589 - accuracy: 0.9815 - val_loss: 1.2032 - val_accuracy: 0.8049\n",
      "Epoch 32/100\n",
      "58/58 [==============================] - 1s 19ms/step - loss: 0.6328 - accuracy: 0.9842 - val_loss: 1.2249 - val_accuracy: 0.8000\n",
      "Epoch 33/100\n",
      "58/58 [==============================] - 1s 18ms/step - loss: 0.6084 - accuracy: 0.9853 - val_loss: 1.2558 - val_accuracy: 0.8049\n",
      "Epoch 34/100\n",
      "58/58 [==============================] - 1s 18ms/step - loss: 0.5810 - accuracy: 0.9880 - val_loss: 1.1999 - val_accuracy: 0.7610\n",
      "Epoch 35/100\n",
      "58/58 [==============================] - 1s 18ms/step - loss: 0.5639 - accuracy: 0.9821 - val_loss: 1.1733 - val_accuracy: 0.7951\n",
      "Epoch 36/100\n",
      "58/58 [==============================] - 1s 18ms/step - loss: 0.5356 - accuracy: 0.9875 - val_loss: 1.1382 - val_accuracy: 0.8000\n",
      "Epoch 37/100\n",
      "58/58 [==============================] - 1s 18ms/step - loss: 0.5209 - accuracy: 0.9859 - val_loss: 1.1282 - val_accuracy: 0.7951\n",
      "Epoch 38/100\n",
      "58/58 [==============================] - 1s 18ms/step - loss: 0.4930 - accuracy: 0.9897 - val_loss: 1.1269 - val_accuracy: 0.7951\n",
      "Epoch 39/100\n",
      "58/58 [==============================] - 1s 18ms/step - loss: 0.4843 - accuracy: 0.9832 - val_loss: 1.0625 - val_accuracy: 0.7951\n",
      "Epoch 40/100\n",
      "58/58 [==============================] - 1s 18ms/step - loss: 0.4576 - accuracy: 0.9891 - val_loss: 1.0811 - val_accuracy: 0.8049\n",
      "Epoch 41/100\n",
      "58/58 [==============================] - 1s 18ms/step - loss: 0.4284 - accuracy: 0.9929 - val_loss: 1.0494 - val_accuracy: 0.8049\n",
      "Epoch 42/100\n",
      "58/58 [==============================] - 1s 18ms/step - loss: 0.4128 - accuracy: 0.9918 - val_loss: 1.0037 - val_accuracy: 0.8000\n",
      "Epoch 43/100\n",
      "58/58 [==============================] - 1s 20ms/step - loss: 0.4070 - accuracy: 0.9880 - val_loss: 1.0041 - val_accuracy: 0.8146\n",
      "Epoch 44/100\n",
      "58/58 [==============================] - 1s 18ms/step - loss: 0.3952 - accuracy: 0.9891 - val_loss: 1.0437 - val_accuracy: 0.8000\n",
      "Epoch 45/100\n",
      "58/58 [==============================] - 1s 18ms/step - loss: 0.3738 - accuracy: 0.9913 - val_loss: 1.0035 - val_accuracy: 0.8000\n",
      "Epoch 46/100\n",
      "58/58 [==============================] - 1s 18ms/step - loss: 0.3564 - accuracy: 0.9929 - val_loss: 1.0018 - val_accuracy: 0.7902\n",
      "Epoch 47/100\n",
      "58/58 [==============================] - 1s 18ms/step - loss: 0.3501 - accuracy: 0.9891 - val_loss: 0.9801 - val_accuracy: 0.7951\n",
      "Epoch 48/100\n",
      "58/58 [==============================] - 1s 18ms/step - loss: 0.3410 - accuracy: 0.9891 - val_loss: 0.9995 - val_accuracy: 0.7756\n",
      "Epoch 49/100\n",
      "58/58 [==============================] - 1s 18ms/step - loss: 0.3231 - accuracy: 0.9908 - val_loss: 0.9958 - val_accuracy: 0.8049\n",
      "Epoch 50/100\n",
      "58/58 [==============================] - 1s 18ms/step - loss: 0.3074 - accuracy: 0.9935 - val_loss: 0.9839 - val_accuracy: 0.8049\n",
      "Epoch 51/100\n",
      "58/58 [==============================] - 1s 18ms/step - loss: 0.3000 - accuracy: 0.9929 - val_loss: 0.8974 - val_accuracy: 0.8098\n",
      "Epoch 52/100\n",
      "58/58 [==============================] - 1s 18ms/step - loss: 0.2906 - accuracy: 0.9913 - val_loss: 0.9140 - val_accuracy: 0.8049\n",
      "Epoch 53/100\n",
      "58/58 [==============================] - 1s 19ms/step - loss: 0.2770 - accuracy: 0.9946 - val_loss: 0.9223 - val_accuracy: 0.7805\n",
      "Epoch 54/100\n",
      "58/58 [==============================] - 1s 18ms/step - loss: 0.2673 - accuracy: 0.9962 - val_loss: 0.8851 - val_accuracy: 0.8146\n",
      "Epoch 55/100\n",
      "58/58 [==============================] - 1s 18ms/step - loss: 0.2606 - accuracy: 0.9924 - val_loss: 0.9345 - val_accuracy: 0.8049\n",
      "Epoch 56/100\n",
      "58/58 [==============================] - 1s 18ms/step - loss: 0.2566 - accuracy: 0.9924 - val_loss: 0.8766 - val_accuracy: 0.8098\n",
      "Epoch 57/100\n",
      "58/58 [==============================] - 1s 20ms/step - loss: 0.2394 - accuracy: 0.9967 - val_loss: 0.8670 - val_accuracy: 0.8244\n",
      "Epoch 58/100\n",
      "58/58 [==============================] - 1s 18ms/step - loss: 0.2378 - accuracy: 0.9957 - val_loss: 0.8426 - val_accuracy: 0.8098\n",
      "Epoch 59/100\n",
      "58/58 [==============================] - 1s 18ms/step - loss: 0.2332 - accuracy: 0.9918 - val_loss: 0.8304 - val_accuracy: 0.8146\n",
      "Epoch 60/100\n",
      "58/58 [==============================] - 1s 18ms/step - loss: 0.2389 - accuracy: 0.9908 - val_loss: 0.8026 - val_accuracy: 0.8098\n",
      "Epoch 61/100\n",
      "58/58 [==============================] - 1s 18ms/step - loss: 0.2210 - accuracy: 0.9946 - val_loss: 0.8894 - val_accuracy: 0.7756\n",
      "Epoch 62/100\n",
      "58/58 [==============================] - 1s 18ms/step - loss: 0.2039 - accuracy: 0.9973 - val_loss: 0.8401 - val_accuracy: 0.8244\n",
      "Epoch 63/100\n",
      "58/58 [==============================] - 1s 18ms/step - loss: 0.1990 - accuracy: 0.9957 - val_loss: 0.8529 - val_accuracy: 0.8195\n",
      "Epoch 64/100\n",
      "58/58 [==============================] - 1s 18ms/step - loss: 0.1996 - accuracy: 0.9946 - val_loss: 0.8082 - val_accuracy: 0.8098\n",
      "Epoch 65/100\n",
      "58/58 [==============================] - 1s 18ms/step - loss: 0.1878 - accuracy: 0.9962 - val_loss: 0.9013 - val_accuracy: 0.8000\n",
      "Epoch 66/100\n",
      "58/58 [==============================] - 1s 18ms/step - loss: 0.1983 - accuracy: 0.9908 - val_loss: 0.7684 - val_accuracy: 0.8000\n",
      "Epoch 67/100\n",
      "58/58 [==============================] - 1s 18ms/step - loss: 0.1850 - accuracy: 0.9940 - val_loss: 0.8029 - val_accuracy: 0.8098\n",
      "Epoch 68/100\n",
      "58/58 [==============================] - 1s 18ms/step - loss: 0.1871 - accuracy: 0.9908 - val_loss: 0.8384 - val_accuracy: 0.8195\n",
      "Epoch 69/100\n",
      "58/58 [==============================] - 1s 18ms/step - loss: 0.1879 - accuracy: 0.9935 - val_loss: 0.7833 - val_accuracy: 0.8098\n",
      "Epoch 70/100\n",
      "58/58 [==============================] - 1s 20ms/step - loss: 0.1726 - accuracy: 0.9946 - val_loss: 0.7859 - val_accuracy: 0.8341\n",
      "Epoch 71/100\n",
      "58/58 [==============================] - 1s 18ms/step - loss: 0.1733 - accuracy: 0.9908 - val_loss: 0.7977 - val_accuracy: 0.8000\n",
      "Epoch 72/100\n",
      "58/58 [==============================] - 1s 18ms/step - loss: 0.1793 - accuracy: 0.9913 - val_loss: 0.8161 - val_accuracy: 0.8049\n",
      "Epoch 73/100\n",
      "58/58 [==============================] - 1s 18ms/step - loss: 0.1661 - accuracy: 0.9951 - val_loss: 0.7994 - val_accuracy: 0.8293\n",
      "Epoch 74/100\n",
      "58/58 [==============================] - 1s 18ms/step - loss: 0.1677 - accuracy: 0.9918 - val_loss: 0.7434 - val_accuracy: 0.8049\n",
      "Epoch 75/100\n",
      "58/58 [==============================] - 1s 18ms/step - loss: 0.1598 - accuracy: 0.9918 - val_loss: 0.8068 - val_accuracy: 0.8049\n",
      "Epoch 76/100\n",
      "58/58 [==============================] - 1s 18ms/step - loss: 0.1619 - accuracy: 0.9929 - val_loss: 0.8042 - val_accuracy: 0.8098\n",
      "Epoch 77/100\n",
      "58/58 [==============================] - 1s 20ms/step - loss: 0.1555 - accuracy: 0.9946 - val_loss: 0.7550 - val_accuracy: 0.8390\n",
      "Epoch 78/100\n",
      "58/58 [==============================] - 1s 18ms/step - loss: 0.1412 - accuracy: 0.9967 - val_loss: 0.7682 - val_accuracy: 0.8146\n",
      "Epoch 79/100\n",
      "58/58 [==============================] - 1s 18ms/step - loss: 0.1405 - accuracy: 0.9973 - val_loss: 0.8357 - val_accuracy: 0.8049\n",
      "Epoch 80/100\n",
      "58/58 [==============================] - 1s 18ms/step - loss: 0.1384 - accuracy: 0.9935 - val_loss: 0.7919 - val_accuracy: 0.8049\n",
      "Epoch 81/100\n",
      "58/58 [==============================] - 1s 18ms/step - loss: 0.1360 - accuracy: 0.9946 - val_loss: 0.7520 - val_accuracy: 0.8293\n",
      "Epoch 82/100\n",
      "58/58 [==============================] - 1s 18ms/step - loss: 0.1416 - accuracy: 0.9913 - val_loss: 0.7901 - val_accuracy: 0.8098\n",
      "Epoch 83/100\n",
      "58/58 [==============================] - 1s 19ms/step - loss: 0.1348 - accuracy: 0.9946 - val_loss: 0.7200 - val_accuracy: 0.8195\n",
      "Epoch 84/100\n",
      "58/58 [==============================] - 1s 18ms/step - loss: 0.1273 - accuracy: 0.9957 - val_loss: 0.7956 - val_accuracy: 0.7951\n",
      "Epoch 85/100\n",
      "58/58 [==============================] - 1s 18ms/step - loss: 0.1255 - accuracy: 0.9962 - val_loss: 0.7498 - val_accuracy: 0.8244\n",
      "Epoch 86/100\n",
      "58/58 [==============================] - 1s 18ms/step - loss: 0.1179 - accuracy: 0.9978 - val_loss: 0.7601 - val_accuracy: 0.8244\n",
      "Epoch 87/100\n",
      "58/58 [==============================] - 1s 18ms/step - loss: 0.1102 - accuracy: 0.9984 - val_loss: 0.7542 - val_accuracy: 0.8293\n",
      "Epoch 88/100\n",
      "58/58 [==============================] - 1s 18ms/step - loss: 0.1068 - accuracy: 0.9995 - val_loss: 0.7710 - val_accuracy: 0.8146\n",
      "Epoch 89/100\n",
      "58/58 [==============================] - 1s 18ms/step - loss: 0.1113 - accuracy: 0.9967 - val_loss: 0.8292 - val_accuracy: 0.7902\n",
      "Epoch 90/100\n",
      "58/58 [==============================] - 1s 20ms/step - loss: 0.1160 - accuracy: 0.9946 - val_loss: 0.7600 - val_accuracy: 0.8439\n",
      "Epoch 91/100\n",
      "58/58 [==============================] - 1s 18ms/step - loss: 0.1177 - accuracy: 0.9918 - val_loss: 0.7621 - val_accuracy: 0.8244\n",
      "Epoch 92/100\n",
      "58/58 [==============================] - 1s 18ms/step - loss: 0.1276 - accuracy: 0.9880 - val_loss: 0.8658 - val_accuracy: 0.7756\n",
      "Epoch 93/100\n",
      "58/58 [==============================] - 1s 18ms/step - loss: 0.1704 - accuracy: 0.9658 - val_loss: 0.7561 - val_accuracy: 0.8049\n"
     ]
    }
   ],
   "source": [
    "# Define the Transformer model\n",
    "@register_keras_serializable()\n",
    "class TransformerModel(keras.Model):\n",
    "    def __init__(self, input_vocab_size, d_model, num_heads, ff_dim, rate=0.1, maxlen=50):\n",
    "        super(TransformerModel, self).__init__()\n",
    "        self.dropout1 = layers.Dropout(rate)\n",
    "        self.dropout2 = layers.Dropout(rate)\n",
    "        self.dropout3 = layers.Dropout(rate)\n",
    "        self.embedding = layers.Embedding(input_vocab_size, d_model)\n",
    "        self.PE = positional_encoding(maxlen, d_model)\n",
    "        self.transformer_block = TransformerBlock_Encode(d_model, num_heads, ff_dim, rate)\n",
    "        self.transformer_block2 = TransformerBlock_decode(d_model, num_heads, ff_dim, rate)\n",
    "        self.flatten = layers.Flatten()\n",
    "        self.fc1 = layers.Dense(512, activation=\"relu\",kernel_regularizer=tf.keras.regularizers.l2(l2=0.001))\n",
    "        self.fc3 = layers.Dense(256, activation=\"relu\",kernel_regularizer=tf.keras.regularizers.l2(l2=0.01))\n",
    "        self.fc2 = layers.Dense(1, activation=\"sigmoid\",kernel_regularizer=tf.keras.regularizers.l2(l2=0.1))\n",
    "\n",
    "    def call(self, inputs, training):\n",
    "        x = self.embedding(inputs)\n",
    "        #x = x+self.PE\n",
    "        y = self.transformer_block(x)\n",
    "        y = self.dropout1(y)\n",
    "        x = self.transformer_block2(x,y,y)\n",
    "        x = self.dropout2(x)\n",
    "        x = self.flatten(x)\n",
    "        x = self.fc1(x)\n",
    "        x = self.fc3(x)\n",
    "        x = self.dropout3(x)\n",
    "        return self.fc2(x)\n",
    "class TransformerBlock_decode(layers.Layer):\n",
    "    def __init__(self, d_model, num_heads, ff_dim, rate=0.1):\n",
    "        super(TransformerBlock_decode, self).__init__()\n",
    "        self.att = layers.MultiHeadAttention(num_heads=num_heads, key_dim=d_model)\n",
    "        self.att1 = layers.MultiHeadAttention(num_heads=num_heads, key_dim=d_model)\n",
    "        self.ffn = keras.Sequential(\n",
    "            [layers.Dense(ff_dim, activation=\"relu\"), layers.Dense(d_model)]\n",
    "        )\n",
    "        self.layernorm1 = layers.LayerNormalization(epsilon=1e-1)\n",
    "        self.layernorm3 = layers.LayerNormalization(epsilon=1e-1)\n",
    "        self.layernorm2 = layers.LayerNormalization(epsilon=1e-1)\n",
    "        self.dropout1 = layers.Dropout(rate)\n",
    "        self.dropout2 = layers.Dropout(rate)\n",
    "        self.dropout3 = layers.Dropout(rate)\n",
    "    def call(self, inputs,q,k, training):\n",
    "        attn_output = self.att(inputs, inputs,inputs)\n",
    "        out1 = self.layernorm1(inputs + attn_output)\n",
    "        attn_output1=self.att(q, k,out1)\n",
    "        out2 = self.layernorm1(out1 + attn_output1)\n",
    "        ffn_output = self.ffn(out2)\n",
    "        return self.layernorm2(out2 + ffn_output)\n",
    "\n",
    "# Define the TransformerBlock layer\n",
    "class TransformerBlock_Encode(layers.Layer):\n",
    "    def __init__(self, d_model, num_heads, ff_dim, rate=0.1):\n",
    "        super(TransformerBlock_Encode, self).__init__()\n",
    "        self.con= layers.Conv1D(256,5,padding='same')\n",
    "        self.att = layers.MultiHeadAttention(num_heads=num_heads, key_dim=d_model)\n",
    "        self.ffn = keras.Sequential(\n",
    "            [layers.Dense(ff_dim, activation=\"relu\"), layers.Dense(d_model)]\n",
    "        )\n",
    "        self.layernorm1 = layers.LayerNormalization(epsilon=1e-1)\n",
    "        self.layernorm2 = layers.LayerNormalization(epsilon=1e-1)\n",
    "        self.dropout1 = layers.Dropout(rate)\n",
    "        self.dropout2 = layers.Dropout(rate)\n",
    "    def call(self, inputs, training):\n",
    "        inputs=self.con(inputs)\n",
    "        attn_output = self.att(inputs, inputs,inputs)\n",
    "        out1 = self.layernorm1(inputs + attn_output)\n",
    "        ffn_output = self.ffn(out1)\n",
    "        return self.layernorm2(out1 + ffn_output)\n",
    "\n",
    "\n",
    "\n",
    "# Define your data loading and preprocessing here\n",
    "# Example: X_train, y_train = load_data_and_preprocess()\n",
    "\n",
    "# Define the model\n",
    "input_vocab_size = 1024  # Replace with the actual vocabulary size\n",
    "d_model = 256\n",
    "num_heads = 2\n",
    "ff_dim = 256\n",
    "model3 = TransformerModel(input_vocab_size, d_model, num_heads, ff_dim)\n",
    "initial_learning_rate = 0.0001\n",
    "optimizer = Adam(learning_rate=initial_learning_rate)\n",
    "# Compile the model\n",
    "model3.compile(optimizer=optimizer, loss=tf.keras.losses.BinaryCrossentropy(from_logits=False), metrics=[\"accuracy\"])\n",
    "callback = [tf.keras.callbacks.EarlyStopping(monitor='val_loss', patience=10),tf.keras.callbacks.ModelCheckpoint(filepath='AMAP3.h5', monitor='val_accuracy', save_best_only=True,mode='auto',save_weights_only=True)]\n",
    "\n",
    "# Train the model\n",
    "history = model3.fit(X_train,y_train,epochs = 100,batch_size=32,validation_split=0.1,callbacks=[callback],verbose=1,shuffle= True)\n"
   ]
  },
  {
   "cell_type": "code",
   "execution_count": 33,
   "id": "725fb3b7",
   "metadata": {
    "execution": {
     "iopub.execute_input": "2024-01-05T09:35:13.001810Z",
     "iopub.status.busy": "2024-01-05T09:35:13.001418Z",
     "iopub.status.idle": "2024-01-05T09:35:13.500311Z",
     "shell.execute_reply": "2024-01-05T09:35:13.499489Z"
    },
    "papermill": {
     "duration": 1.025201,
     "end_time": "2024-01-05T09:35:13.502357",
     "exception": false,
     "start_time": "2024-01-05T09:35:12.477156",
     "status": "completed"
    },
    "tags": []
   },
   "outputs": [
    {
     "data": {
      "image/png": "[encoded data removed]",
      "text/plain": [
       "<Figure size 640x480 with 1 Axes>"
      ]
     },
     "metadata": {},
     "output_type": "display_data"
    },
    {
     "data": {
      "image/png": "[encoded data removed]",
      "text/plain": [
       "<Figure size 640x480 with 1 Axes>"
      ]
     },
     "metadata": {},
     "output_type": "display_data"
    }
   ],
   "source": [
    "# Plot training accuracy\n",
    "plt.plot(history.history['accuracy'][:-10])\n",
    "plt.plot(history.history['val_accuracy'][:-10])\n",
    "plt.title('Model Accuracy')\n",
    "plt.xlabel('Epoch')\n",
    "plt.ylabel('Accuracy')\n",
    "plt.legend(['Train', 'Validation'], loc='upper left')\n",
    "plt.show()\n",
    "\n",
    "# Plot training loss\n",
    "plt.plot(history.history['loss'][:-10])\n",
    "plt.plot(history.history['val_loss'][:-10])\n",
    "plt.title('Model Loss')\n",
    "plt.xlabel('Epoch')\n",
    "plt.ylabel('Loss')\n",
    "plt.legend(['Train', 'Validation'], loc='upper left')\n",
    "plt.show()"
   ]
  },
  {
   "cell_type": "code",
   "execution_count": 34,
   "id": "a3d705f7",
   "metadata": {
    "execution": {
     "iopub.execute_input": "2024-01-05T09:35:14.541787Z",
     "iopub.status.busy": "2024-01-05T09:35:14.541373Z",
     "iopub.status.idle": "2024-01-05T09:35:14.607506Z",
     "shell.execute_reply": "2024-01-05T09:35:14.606466Z"
    },
    "id": "_hKa8EZ9-tEU",
    "papermill": {
     "duration": 0.586489,
     "end_time": "2024-01-05T09:35:14.609997",
     "exception": false,
     "start_time": "2024-01-05T09:35:14.023508",
     "status": "completed"
    },
    "tags": []
   },
   "outputs": [],
   "source": [
    "model3.load_weights('AMAP3.h5')"
   ]
  },
  {
   "cell_type": "code",
   "execution_count": 35,
   "id": "c751a716",
   "metadata": {
    "execution": {
     "iopub.execute_input": "2024-01-05T09:35:15.723228Z",
     "iopub.status.busy": "2024-01-05T09:35:15.722516Z",
     "iopub.status.idle": "2024-01-05T09:35:17.038367Z",
     "shell.execute_reply": "2024-01-05T09:35:17.037305Z"
    },
    "id": "ZBAhB9ww-tEV",
    "papermill": {
     "duration": 1.897874,
     "end_time": "2024-01-05T09:35:17.040626",
     "exception": false,
     "start_time": "2024-01-05T09:35:15.142752",
     "status": "completed"
    },
    "tags": []
   },
   "outputs": [
    {
     "name": "stdout",
     "output_type": "stream",
     "text": [
      "64/64 [==============================] - 1s 9ms/step\n",
      "rnnamp train datasets\n",
      "deep learning: Accuracy 98.14%\n",
      "deep learning: Precision-Recall 97.26%\n",
      "deep learning: Matthews Coefficient 96.27%\n",
      "deep learning: Cohen Kappa Score 96.26%\n",
      "deep learning: ROC AUC Score 98.10%\n",
      "              precision    recall  f1-score   support\n",
      "\n",
      "       low 0       0.99      0.97      0.98       952\n",
      "      high 1       0.98      0.99      0.98      1093\n",
      "\n",
      "    accuracy                           0.98      2045\n",
      "   macro avg       0.98      0.98      0.98      2045\n",
      "weighted avg       0.98      0.98      0.98      2045\n",
      "\n",
      "rnnamp test datasets\n",
      "16/16 [==============================] - 0s 7ms/step\n",
      "deep learning: Accuracy 80.27%\n",
      "deep learning: Precision 79.36%\n",
      "deep learning: Recall 83.83%\n",
      "deep learning: Matthews Coefficient 60.50%\n",
      "deep learning: Cohen Kappa Score 60.40%\n",
      "deep learning: ROC AUC Score 80.13%\n",
      "              precision    recall  f1-score   support\n",
      "\n",
      "       low 0       0.81      0.76      0.79       246\n",
      "      high 1       0.79      0.84      0.82       266\n",
      "\n",
      "    accuracy                           0.80       512\n",
      "   macro avg       0.80      0.80      0.80       512\n",
      "weighted avg       0.80      0.80      0.80       512\n",
      "\n"
     ]
    }
   ],
   "source": [
    "from sklearn import model_selection, metrics\n",
    "y_pred=model3.predict(X_train)\n",
    "y_pred[y_pred>0.5]=1\n",
    "y_pred[y_pred<0.5]=0\n",
    "\n",
    "cv_preds = y_pred\n",
    "print('rnnamp train datasets')\n",
    "name='deep learning'\n",
    "print(\"%s: Accuracy %0.2f%%\" % (name, 100*metrics.accuracy_score(y_train, cv_preds)))\n",
    "print(\"%s: Precision-Recall %0.2f%%\" % (name, 100*metrics.average_precision_score(y_train, cv_preds)))\n",
    "print(\"%s: Matthews Coefficient %0.2f%%\" % (name, 100*metrics.matthews_corrcoef(y_train, cv_preds)))\n",
    "print(\"%s: Cohen Kappa Score %0.2f%%\" % (name, 100*metrics.cohen_kappa_score(y_train, cv_preds)))\n",
    "print(\"%s: ROC AUC Score %0.2f%%\" % (name, 100*metrics.roc_auc_score(y_train, cv_preds)))\n",
    "target_names = ['low 0', 'high 1']\n",
    "print(metrics.classification_report(y_train, cv_preds, target_names=target_names))\n",
    "\n",
    "# Predictions Validation Set\n",
    "print('rnnamp test datasets')\n",
    "y_pred2=model3.predict(X_test)\n",
    "l=np.zeros(len(y_pred2))\n",
    "l=l.reshape(-1,1)\n",
    "l[y_pred2>=0.5]=1\n",
    "l[y_pred2<0.5]=0\n",
    "cv_preds2 = l\n",
    "print(\"%s: Accuracy %0.2f%%\" % (name, 100*metrics.accuracy_score(y_test, cv_preds2)))\n",
    "print(\"%s: Precision %0.2f%%\" % (name, 100*metrics.precision_score(y_test, cv_preds2)))\n",
    "print(\"%s: Recall %0.2f%%\" % (name, 100*metrics.recall_score(y_test, cv_preds2)))\n",
    "print(\"%s: Matthews Coefficient %0.2f%%\" % (name, 100*metrics.matthews_corrcoef(y_test, cv_preds2)))\n",
    "print(\"%s: Cohen Kappa Score %0.2f%%\" % (name, 100*metrics.cohen_kappa_score(y_test, cv_preds2)))\n",
    "print(\"%s: ROC AUC Score %0.2f%%\" % (name, 100*metrics.roc_auc_score(y_test, cv_preds2)))\n",
    "target_names = ['low 0', 'high 1']\n",
    "print(metrics.classification_report(y_test, cv_preds2, target_names=target_names))"
   ]
  },
  {
   "cell_type": "code",
   "execution_count": 36,
   "id": "84d73b9b",
   "metadata": {
    "execution": {
     "iopub.execute_input": "2024-01-05T09:35:18.158175Z",
     "iopub.status.busy": "2024-01-05T09:35:18.157491Z",
     "iopub.status.idle": "2024-01-05T09:35:18.261243Z",
     "shell.execute_reply": "2024-01-05T09:35:18.260188Z"
    },
    "id": "k9NxcbR5Lh4f",
    "papermill": {
     "duration": 0.655836,
     "end_time": "2024-01-05T09:35:18.263866",
     "exception": false,
     "start_time": "2024-01-05T09:35:17.608030",
     "status": "completed"
    },
    "tags": []
   },
   "outputs": [],
   "source": [
    "model3.save_weights(\"AMAP3.h5\")"
   ]
  },
  {
   "cell_type": "code",
   "execution_count": null,
   "id": "6ba3cb89",
   "metadata": {
    "papermill": {
     "duration": 0.5328,
     "end_time": "2024-01-05T09:35:19.386415",
     "exception": false,
     "start_time": "2024-01-05T09:35:18.853615",
     "status": "completed"
    },
    "tags": []
   },
   "outputs": [],
   "source": []
  }
 ],
 "metadata": {
  "accelerator": "GPU",
  "colab": {
   "provenance": []
  },
  "kaggle": {
   "accelerator": "nvidiaTeslaT4",
   "dataSources": [
    {
     "datasetId": 4241668,
     "sourceId": 7325770,
     "sourceType": "datasetVersion"
    }
   ],
   "dockerImageVersionId": 30627,
   "isGpuEnabled": true,
   "isInternetEnabled": true,
   "language": "python",
   "sourceType": "notebook"
  },
  "kernelspec": {
   "display_name": "Python 3",
   "language": "python",
   "name": "python3"
  },
  "language_info": {
   "codemirror_mode": {
    "name": "ipython",
    "version": 3
   },
   "file_extension": ".py",
   "mimetype": "text/x-python",
   "name": "python",
   "nbconvert_exporter": "python",
   "pygments_lexer": "ipython3",
   "version": "3.10.12"
  },
  "papermill": {
   "default_parameters": {},
   "duration": 432.212879,
   "end_time": "2024-01-05T09:35:22.770342",
   "environment_variables": {},
   "exception": null,
   "input_path": "__notebook__.ipynb",
   "output_path": "__notebook__.ipynb",
   "parameters": {},
   "start_time": "2024-01-05T09:28:10.557463",
   "version": "2.4.0"
  }
 },
 "nbformat": 4,
 "nbformat_minor": 5
}
